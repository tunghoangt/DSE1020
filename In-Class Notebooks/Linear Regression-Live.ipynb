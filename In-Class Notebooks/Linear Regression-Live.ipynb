{
 "cells": [
  {
   "cell_type": "markdown",
   "metadata": {},
   "source": [
    "# What we did in class"
   ]
  },
  {
   "cell_type": "markdown",
   "metadata": {},
   "source": [
    "# Linear Regression and Friends\n",
    "\n",
    "I want to talk about linear regression computationally. You need to understand linear regression every which way, up and down. WHY? \n",
    "\n",
    "    (1) Can apply it very widely\n",
    "\n",
    "    (2) Often works pretty darn well\n",
    "\n",
    "    (3) Can build non-linear regression on top of linear regression\n",
    "\n",
    "    (4) Lots of idea of linear regression used everywhere\n",
    "\n",
    "    (5) Many different approaches\n",
    "\n",
    "    (6) Good theoretical analysis\n",
    "\n",
    "    (7) Great examples on what goes wrong that is useful elsewhere\n",
    "\n",
    "    (8) Common language: Almost every one knows it\n",
    "\n",
    "    (9) Simple: Occam's razor -- why use something more complex if this works so try first\n",
    "\n",
    "There are so many reasons why it is the \"go to thing\" ... somebody running a deep learning model when linear regression works as well is probably a moron. "
   ]
  },
  {
   "cell_type": "markdown",
   "metadata": {},
   "source": [
    "## What is a regression problem?\n",
    "\n",
    "We have data a variable which was observed to have values $x_1, x_2, \\ldots , x_n$. When we measured $x_i$ we also measured $y_i$ and we have reason to think that there is a functional relationship $f(x)=y$. For example maybe $x$ is altitude and $y$ is air pressure. \n",
    "\n",
    "Maybe $f$ is a **linear** function/relationship which means there is a scaling coefficient $m$ and an offset $b$ so that \n",
    "\n",
    "$$y = f(x) = mx + b$$. \n",
    "\n",
    "Perhaps this is a bit to optimistic. We know that even at seal level pressure can vary a bit so we include an error term ${\\bf \\varepsilon}(x)$ which we will think of as random noise, partly because we don't know how to model it (yet). So really with this model we are guessing that \n",
    "\n",
    "$$y = f(x) = mx + b + {\\bf \\varepsilon}(x)$$.\n",
    "\n",
    "Here this error term is pretty small. Lets just simulate what this would look like."
   ]
  },
  {
   "cell_type": "markdown",
   "metadata": {},
   "source": [
    "## Finding the slope\n",
    "\n",
    "We learned linear algebra for a reason. We can put all our measurements in a matrices $\\tilde{X}$, $\\tilde{Y}$, and noise $E$ like this\n",
    "\n",
    "$$ \n",
    "\\tilde{X} = \\left[ \n",
    "\\begin{array}{c}\n",
    "   x_1 \\\\\n",
    "   x_2 \\\\\n",
    "   \\vdots \\\\\n",
    "   x_n\n",
    "\\end{array}\n",
    "\\right],\n",
    "Y = \\left[ \n",
    "\\begin{array}{c}\n",
    "   y_1 \\\\\n",
    "   y_2 \\\\\n",
    "   \\vdots \\\\\n",
    "   y_n\n",
    "\\end{array}\n",
    "\\right],\n",
    "E = \\left[ \n",
    "\\begin{array}{c}\n",
    "   \\varepsilon_1 \\\\\n",
    "   \\varepsilon_2 \\\\\n",
    "   \\vdots \\\\\n",
    "   \\varepsilon_n\n",
    "\\end{array}\n",
    "\\right],\n",
    "$$\n",
    "\n",
    "then we get the nice little formula (abusing notation)\n",
    "\n",
    "$$ Y = (\\tilde{X})*m + b + E $$\n",
    "\n",
    "where $m$ just multiplies each row and $b$ adds to each row. For various reasons we do a cute trick of replacing $\\tilde{X}$ with a matrix with a column of $1$s and write $m$ and $b$ as a coefficient matrix $C$ like this:\n",
    "\n",
    "$$ X = \n",
    "\\left[ \n",
    "\\begin{array}{ccc}\n",
    "   x_1 & & 1\\\\\n",
    "   x_2 & & 1\\\\\n",
    "   &\\vdots & \\\\\n",
    "   x_n &  &1\n",
    "\\end{array}\n",
    "\\right],\n",
    "C = \\left[\n",
    "\\begin{array}{c}\n",
    "   m \\\\\n",
    "   b\n",
    "\\end{array}\n",
    "\\right]\n",
    "$$\n",
    "\n",
    "Then the equation nicely becomes\n",
    "\n",
    "$$ Y = X C + E $$\n",
    "\n",
    "Basically we want to try and solve (approximately) $Y=XC$ for $C$ to recover the slope $m$ and offset $b$. But HOW??\n",
    "If only $X$ were a square matrix with an inverse!! .... then\n",
    "\n",
    "$$ C = X^{-1} Y$$\n",
    "\n",
    "but alas ... it is not square. BUT!!! There is a bit of a trick. What if we multiple both sides of the equation $XC=Y$ by $X^T$, the transpose of $X$. Well then $X^T X$ is a square $2 \\times 2$ matrix. For typical (random) $X$ that will almost never be singular unless all the values of $x_i$ are the same!!! So if we think there is a solution to $XC=Y$ for $C$ then it must be true that\n",
    "\n",
    "$$ X^T X C = X^T Y \\implies C = (X^T X)^{-1} X^T Y $$\n",
    "\n",
    "So $\\hat{C} = (X^T X)^{-1} X^T Y$ implements and approximate solution when $E$ is not zero. It is the solution that minimizes the least square error. In other words if we defined the val $\\hat{Y} = X\\hat{C}$ and the error vector\n",
    "\n",
    "$$E(C) = Y-\\hat{Y} = Y - X\\hat{C}$$ \n",
    "\n",
    "then the mean of square errors \n",
    "\n",
    "$$\\mbox{MSE}(C) = \\frac{1}{n}||E(C)||^2 = (\\frac{1}{n}) E(C)^T E(C) = (\\frac{1}{n}) \\sum_i (\\hat{y}_i - y)^2 $$\n",
    "\n",
    "is the smallest it can be for all possible choices of $m$ and $b$. The smaller the noise the better the solution because the difference between the predicted $f(x)$ and the model is just the error $E$. Lets see this in code."
   ]
  },
  {
   "cell_type": "code",
   "execution_count": 2,
   "metadata": {},
   "outputs": [],
   "source": [
    "import numpy as np\n",
    "from matplotlib import pyplot as plt\n",
    "%matplotlib inline"
   ]
  },
  {
   "cell_type": "code",
   "execution_count": 3,
   "metadata": {},
   "outputs": [],
   "source": [
    "num_points = 100\n",
    "np.random.seed(42)\n",
    "xs = np.random.random((num_points,))\n",
    "noise_level = 0.1\n",
    "es = np.random.randn(num_points)*noise_level\n",
    "m = 2.718\n",
    "b = 3.141\n",
    "ys = xs*m + b + es"
   ]
  },
  {
   "cell_type": "code",
   "execution_count": 6,
   "metadata": {},
   "outputs": [
    {
     "data": {
      "text/plain": [
       "Text(0.5,1,'Synthetic nearly linear data')"
      ]
     },
     "execution_count": 6,
     "metadata": {},
     "output_type": "execute_result"
    },
    {
     "data": {
      "image/png": "[encoded data removed]",
      "text/plain": [
       "<Figure size 432x288 with 1 Axes>"
      ]
     },
     "metadata": {
      "needs_background": "light"
     },
     "output_type": "display_data"
    }
   ],
   "source": [
    "fig, ax = plt.subplots()\n",
    "ax.scatter(xs,ys)\n",
    "ax.set_xlabel('Variable $x$')\n",
    "ax.set_ylabel('Variable $y$')\n",
    "ax.set_title('Synthetic nearly linear data')"
   ]
  },
  {
   "cell_type": "code",
   "execution_count": 8,
   "metadata": {},
   "outputs": [
    {
     "data": {
      "text/plain": [
       "Text(0.5,1,'Synthetic nearly linear data')"
      ]
     },
     "execution_count": 8,
     "metadata": {},
     "output_type": "execute_result"
    },
    {
     "data": {
      "image/png": "[encoded data removed]",
      "text/plain": [
       "<Figure size 432x288 with 1 Axes>"
      ]
     },
     "metadata": {
      "needs_background": "light"
     },
     "output_type": "display_data"
    }
   ],
   "source": [
    "fig, ax = plt.subplots()\n",
    "ax.scatter(xs,ys,color='b')\n",
    "ax.plot([xs.min(),xs.max()],[xs.min()*m+b,xs.max()*m+b],'r')\n",
    "ax.set_xlabel('Variable $x$')\n",
    "ax.set_ylabel('Variable $y$')\n",
    "ax.set_title('Synthetic nearly linear data')"
   ]
  },
  {
   "cell_type": "markdown",
   "metadata": {},
   "source": [
    "## Finding the linear regression"
   ]
  },
  {
   "cell_type": "code",
   "execution_count": 10,
   "metadata": {},
   "outputs": [
    {
     "data": {
      "text/plain": [
       "(100, 2)"
      ]
     },
     "execution_count": 10,
     "metadata": {},
     "output_type": "execute_result"
    }
   ],
   "source": [
    "X = np.hstack([xs.reshape((len(xs),1)),np.ones((len(xs),1))])\n",
    "X.shape"
   ]
  },
  {
   "cell_type": "code",
   "execution_count": 13,
   "metadata": {},
   "outputs": [
    {
     "data": {
      "text/plain": [
       "(100, 1)"
      ]
     },
     "execution_count": 13,
     "metadata": {},
     "output_type": "execute_result"
    }
   ],
   "source": [
    "Y = ys.reshape((len(ys),1))\n",
    "Y.shape"
   ]
  },
  {
   "cell_type": "code",
   "execution_count": 15,
   "metadata": {},
   "outputs": [
    {
     "data": {
      "text/plain": [
       "array([[2.67202268],\n",
       "       [3.16250962]])"
      ]
     },
     "execution_count": 15,
     "metadata": {},
     "output_type": "execute_result"
    }
   ],
   "source": [
    "Chat = np.dot(np.dot(np.linalg.inv(np.dot(X.T, X)), X.T),Y)\n",
    "Chat"
   ]
  },
  {
   "cell_type": "code",
   "execution_count": 17,
   "metadata": {},
   "outputs": [],
   "source": [
    "yshat = np.dot(X,Chat)"
   ]
  },
  {
   "cell_type": "code",
   "execution_count": 23,
   "metadata": {},
   "outputs": [
    {
     "data": {
      "text/plain": [
       "(2, 1)"
      ]
     },
     "execution_count": 23,
     "metadata": {},
     "output_type": "execute_result"
    }
   ],
   "source": [
    "Chat.shape"
   ]
  },
  {
   "cell_type": "code",
   "execution_count": 25,
   "metadata": {},
   "outputs": [
    {
     "data": {
      "text/plain": [
       "array([[2.67202268],\n",
       "       [3.16250962]])"
      ]
     },
     "execution_count": 25,
     "metadata": {},
     "output_type": "execute_result"
    }
   ],
   "source": [
    "Chat"
   ]
  },
  {
   "cell_type": "code",
   "execution_count": 24,
   "metadata": {},
   "outputs": [
    {
     "data": {
      "text/plain": [
       "Text(0.5,1,'Synthetic nearly linear data')"
      ]
     },
     "execution_count": 24,
     "metadata": {},
     "output_type": "execute_result"
    },
    {
     "data": {
      "image/png": "[encoded data removed]",
      "text/plain": [
       "<Figure size 432x288 with 1 Axes>"
      ]
     },
     "metadata": {
      "needs_background": "light"
     },
     "output_type": "display_data"
    }
   ],
   "source": [
    "fig, ax = plt.subplots()\n",
    "ax.scatter(xs,ys,color='b',s=10)\n",
    "ax.scatter(xs,yshat,color='k',s=10)\n",
    "ax.plot([xs.min(),xs.max()],[xs.min()*m+b,xs.max()*m+b],'r')\n",
    "ax.plot(np.vstack([xs,xs]),np.vstack([np.squeeze(ys),np.squeeze(yshat)]),color='m')\n",
    "ax.plot([xs.min(),xs.max()],[xs.min()*Chat[0][0]+Chat[1][0],xs.max()*Chat[0][0]+Chat[1][0]],'c')\n",
    "\n",
    "ax.set_xlabel('Variable $x$')\n",
    "ax.set_ylabel('Variable $y$')\n",
    "ax.set_title('Synthetic nearly linear data')"
   ]
  },
  {
   "cell_type": "markdown",
   "metadata": {},
   "source": [
    "## Using numpy library linalg\n",
    "\n",
    "We don't need to solve our linear regression ourselves. We have lots of libraries to do this. They often have interesting useful options."
   ]
  },
  {
   "cell_type": "code",
   "execution_count": 27,
   "metadata": {},
   "outputs": [
    {
     "name": "stderr",
     "output_type": "stream",
     "text": [
      "/opt/tljh/user/lib/python3.6/site-packages/ipykernel_launcher.py:1: FutureWarning: `rcond` parameter will change to the default of machine precision times ``max(M, N)`` where M and N are the input matrix dimensions.\n",
      "To use the future default and silence this warning we advise to pass `rcond=None`, to keep using the old, explicitly pass `rcond=-1`.\n",
      "  \"\"\"Entry point for launching an IPython kernel.\n"
     ]
    },
    {
     "data": {
      "text/plain": [
       "(array([[2.67202268],\n",
       "        [3.16250962]]),\n",
       " array([0.80658456]),\n",
       " 2,\n",
       " array([11.12613263,  2.66038737]))"
      ]
     },
     "execution_count": 27,
     "metadata": {},
     "output_type": "execute_result"
    }
   ],
   "source": [
    "np.linalg.lstsq(X,Y)"
   ]
  },
  {
   "cell_type": "code",
   "execution_count": 30,
   "metadata": {},
   "outputs": [
    {
     "name": "stderr",
     "output_type": "stream",
     "text": [
      "/opt/tljh/user/lib/python3.6/site-packages/ipykernel_launcher.py:1: FutureWarning: `rcond` parameter will change to the default of machine precision times ``max(M, N)`` where M and N are the input matrix dimensions.\n",
      "To use the future default and silence this warning we advise to pass `rcond=None`, to keep using the old, explicitly pass `rcond=-1`.\n",
      "  \"\"\"Entry point for launching an IPython kernel.\n"
     ]
    },
    {
     "data": {
      "text/plain": [
       "(2.672022677287696, 3.162509615754675)"
      ]
     },
     "execution_count": 30,
     "metadata": {},
     "output_type": "execute_result"
    }
   ],
   "source": [
    "m, b = np.linalg.lstsq(X,Y)[0]\n",
    "m[0],b[0]"
   ]
  },
  {
   "cell_type": "code",
   "execution_count": 31,
   "metadata": {},
   "outputs": [],
   "source": [
    "np.linalg.lstsq?"
   ]
  },
  {
   "cell_type": "markdown",
   "metadata": {},
   "source": [
    "## Using the scipy library stats\n",
    "\n",
    "Scipy has a stats library that has lost of useful statistics stuff."
   ]
  },
  {
   "cell_type": "code",
   "execution_count": 32,
   "metadata": {},
   "outputs": [],
   "source": [
    "from scipy import stats"
   ]
  },
  {
   "cell_type": "code",
   "execution_count": 33,
   "metadata": {},
   "outputs": [
    {
     "data": {
      "text/plain": [
       "LinregressResult(slope=2.6720226772876967, intercept=3.162509615754675, rvalue=0.9936146287741067, pvalue=1.1078627512499249e-94, stderr=0.030649458514612753)"
      ]
     },
     "execution_count": 33,
     "metadata": {},
     "output_type": "execute_result"
    }
   ],
   "source": [
    "stats.linregress(xs,ys)"
   ]
  },
  {
   "cell_type": "code",
   "execution_count": 34,
   "metadata": {},
   "outputs": [
    {
     "data": {
      "text/plain": [
       "(2.6720226772876967, 3.162509615754675)"
      ]
     },
     "execution_count": 34,
     "metadata": {},
     "output_type": "execute_result"
    }
   ],
   "source": [
    "m, b, r_value, p_value, std_err = stats.linregress(xs,ys)\n",
    "m, b"
   ]
  },
  {
   "cell_type": "code",
   "execution_count": 35,
   "metadata": {},
   "outputs": [],
   "source": [
    "stats.linregress?"
   ]
  },
  {
   "cell_type": "markdown",
   "metadata": {},
   "source": [
    "## Using scikit learn (machine learning library)\n",
    "\n",
    "Here we see that first you create/fit a model. Then you can extract its coefficients. You could weight data if some data was less certain than other data."
   ]
  },
  {
   "cell_type": "code",
   "execution_count": 36,
   "metadata": {},
   "outputs": [],
   "source": [
    "from sklearn.linear_model import LinearRegression"
   ]
  },
  {
   "cell_type": "code",
   "execution_count": 38,
   "metadata": {},
   "outputs": [],
   "source": [
    "reg = LinearRegression().fit(xs.reshape(len(xs),1),ys)"
   ]
  },
  {
   "cell_type": "code",
   "execution_count": 39,
   "metadata": {},
   "outputs": [
    {
     "data": {
      "text/plain": [
       "array([2.67202268])"
      ]
     },
     "execution_count": 39,
     "metadata": {},
     "output_type": "execute_result"
    }
   ],
   "source": [
    "reg.coef_"
   ]
  },
  {
   "cell_type": "code",
   "execution_count": 40,
   "metadata": {},
   "outputs": [
    {
     "data": {
      "text/plain": [
       "3.162509615754675"
      ]
     },
     "execution_count": 40,
     "metadata": {},
     "output_type": "execute_result"
    }
   ],
   "source": [
    "reg.intercept_"
   ]
  },
  {
   "cell_type": "code",
   "execution_count": 41,
   "metadata": {},
   "outputs": [
    {
     "data": {
      "text/plain": [
       "0.9872700305139059"
      ]
     },
     "execution_count": 41,
     "metadata": {},
     "output_type": "execute_result"
    }
   ],
   "source": [
    "reg.score(xs.reshape(len(xs),1),ys)"
   ]
  },
  {
   "cell_type": "code",
   "execution_count": 42,
   "metadata": {},
   "outputs": [],
   "source": [
    "LinearRegression?"
   ]
  },
  {
   "cell_type": "markdown",
   "metadata": {},
   "source": [
    "# Using Statsmodels\n",
    "\n",
    "For linear regression you probably get the most analysis and flexibility in statmodels. It works similar to sklearn but more directly."
   ]
  },
  {
   "cell_type": "code",
   "execution_count": 43,
   "metadata": {},
   "outputs": [],
   "source": [
    "import statsmodels.api as sm"
   ]
  },
  {
   "cell_type": "code",
   "execution_count": 44,
   "metadata": {},
   "outputs": [
    {
     "name": "stdout",
     "output_type": "stream",
     "text": [
      "                            OLS Regression Results                            \n",
      "==============================================================================\n",
      "Dep. Variable:                      y   R-squared:                       0.987\n",
      "Model:                            OLS   Adj. R-squared:                  0.987\n",
      "Method:                 Least Squares   F-statistic:                     7600.\n",
      "Date:                Wed, 17 Oct 2018   Prob (F-statistic):           1.11e-94\n",
      "Time:                        22:25:54   Log-Likelihood:                 99.112\n",
      "No. Observations:                 100   AIC:                            -194.2\n",
      "Df Residuals:                      98   BIC:                            -189.0\n",
      "Df Model:                           1                                         \n",
      "Covariance Type:            nonrobust                                         \n",
      "==============================================================================\n",
      "                 coef    std err          t      P>|t|      [0.025      0.975]\n",
      "------------------------------------------------------------------------------\n",
      "x1             2.6720      0.031     87.180      0.000       2.611       2.733\n",
      "const          3.1625      0.017    185.717      0.000       3.129       3.196\n",
      "==============================================================================\n",
      "Omnibus:                        0.900   Durbin-Watson:                   2.285\n",
      "Prob(Omnibus):                  0.638   Jarque-Bera (JB):                0.808\n",
      "Skew:                           0.217   Prob(JB):                        0.668\n",
      "Kurtosis:                       2.929   Cond. No.                         4.18\n",
      "==============================================================================\n",
      "\n",
      "Warnings:\n",
      "[1] Standard Errors assume that the covariance matrix of the errors is correctly specified.\n"
     ]
    }
   ],
   "source": [
    "model = sm.OLS(ys,X)\n",
    "results = model.fit()\n",
    "print(results.summary())"
   ]
  },
  {
   "cell_type": "code",
   "execution_count": 45,
   "metadata": {},
   "outputs": [],
   "source": [
    "sm.OLS?"
   ]
  },
  {
   "cell_type": "markdown",
   "metadata": {},
   "source": [
    "## Multi-linear regression on the boston housing data set\n",
    "\n",
    "We don't need to assume we have only two variables. We can assume we have several and still do linear regression. If we had $m$ and $b$ before lets now have a bunch of variables so lets call the offset $c_0$ and the others $c_1$, ... , $c_k$. The model we would be trying to figure out would have the form\n",
    "\n",
    "$$ y = c_0 + c_1 x_1 + c_2 x_2 + \\cdots c_l x_m $$\n",
    "\n",
    "This gets a bit messy because now $x_i$ is not an observation but a variable! Thats because we have lots like \"age\" or \"tax\" ... not just one ... we have $m$. We need another index for observations. So now it looks like\n",
    "\n",
    "$$ y_i = c_0 + c_1 x_{i,1} + c_2 x_{i,2} + \\cdots c_l x_{i,k} $$\n",
    "\n",
    "where $x_{i,j}$ is our data matrix, where $i$ indexes observations and $j$ indexes different variables. Note that it still looks like a dot product between the $C$ and the $X$ so we can **still** write $X=CY$ as an approximation, end everything else works exactly the same way. Lets use the sklearn version."
   ]
  },
  {
   "cell_type": "code",
   "execution_count": 46,
   "metadata": {},
   "outputs": [
    {
     "name": "stdout",
     "output_type": "stream",
     "text": [
      "['CRIM' 'ZN' 'INDUS' 'CHAS' 'NOX' 'RM' 'AGE' 'DIS' 'RAD' 'TAX' 'PTRATIO'\n",
      " 'B' 'LSTAT']\n"
     ]
    }
   ],
   "source": [
    "from sklearn.datasets import load_boston\n",
    "import pandas as pd\n",
    "boston = load_boston()\n",
    "print(boston.feature_names)"
   ]
  },
  {
   "cell_type": "code",
   "execution_count": 47,
   "metadata": {},
   "outputs": [
    {
     "data": {
      "text/html": [
       "<div>\n",
       "<style scoped>\n",
       "    .dataframe tbody tr th:only-of-type {\n",
       "        vertical-align: middle;\n",
       "    }\n",
       "\n",
       "    .dataframe tbody tr th {\n",
       "        vertical-align: top;\n",
       "    }\n",
       "\n",
       "    .dataframe thead th {\n",
       "        text-align: right;\n",
       "    }\n",
       "</style>\n",
       "<table border=\"1\" class=\"dataframe\">\n",
       "  <thead>\n",
       "    <tr style=\"text-align: right;\">\n",
       "      <th></th>\n",
       "      <th>CRIM</th>\n",
       "      <th>ZN</th>\n",
       "      <th>INDUS</th>\n",
       "      <th>CHAS</th>\n",
       "      <th>NOX</th>\n",
       "      <th>RM</th>\n",
       "      <th>AGE</th>\n",
       "      <th>DIS</th>\n",
       "      <th>RAD</th>\n",
       "      <th>TAX</th>\n",
       "      <th>PTRATIO</th>\n",
       "      <th>B</th>\n",
       "      <th>LSTAT</th>\n",
       "      <th>Price</th>\n",
       "    </tr>\n",
       "  </thead>\n",
       "  <tbody>\n",
       "    <tr>\n",
       "      <th>0</th>\n",
       "      <td>0.00632</td>\n",
       "      <td>18.0</td>\n",
       "      <td>2.31</td>\n",
       "      <td>0.0</td>\n",
       "      <td>0.538</td>\n",
       "      <td>6.575</td>\n",
       "      <td>65.2</td>\n",
       "      <td>4.0900</td>\n",
       "      <td>1.0</td>\n",
       "      <td>296.0</td>\n",
       "      <td>15.3</td>\n",
       "      <td>396.90</td>\n",
       "      <td>4.98</td>\n",
       "      <td>24.0</td>\n",
       "    </tr>\n",
       "    <tr>\n",
       "      <th>1</th>\n",
       "      <td>0.02731</td>\n",
       "      <td>0.0</td>\n",
       "      <td>7.07</td>\n",
       "      <td>0.0</td>\n",
       "      <td>0.469</td>\n",
       "      <td>6.421</td>\n",
       "      <td>78.9</td>\n",
       "      <td>4.9671</td>\n",
       "      <td>2.0</td>\n",
       "      <td>242.0</td>\n",
       "      <td>17.8</td>\n",
       "      <td>396.90</td>\n",
       "      <td>9.14</td>\n",
       "      <td>21.6</td>\n",
       "    </tr>\n",
       "    <tr>\n",
       "      <th>2</th>\n",
       "      <td>0.02729</td>\n",
       "      <td>0.0</td>\n",
       "      <td>7.07</td>\n",
       "      <td>0.0</td>\n",
       "      <td>0.469</td>\n",
       "      <td>7.185</td>\n",
       "      <td>61.1</td>\n",
       "      <td>4.9671</td>\n",
       "      <td>2.0</td>\n",
       "      <td>242.0</td>\n",
       "      <td>17.8</td>\n",
       "      <td>392.83</td>\n",
       "      <td>4.03</td>\n",
       "      <td>34.7</td>\n",
       "    </tr>\n",
       "    <tr>\n",
       "      <th>3</th>\n",
       "      <td>0.03237</td>\n",
       "      <td>0.0</td>\n",
       "      <td>2.18</td>\n",
       "      <td>0.0</td>\n",
       "      <td>0.458</td>\n",
       "      <td>6.998</td>\n",
       "      <td>45.8</td>\n",
       "      <td>6.0622</td>\n",
       "      <td>3.0</td>\n",
       "      <td>222.0</td>\n",
       "      <td>18.7</td>\n",
       "      <td>394.63</td>\n",
       "      <td>2.94</td>\n",
       "      <td>33.4</td>\n",
       "    </tr>\n",
       "    <tr>\n",
       "      <th>4</th>\n",
       "      <td>0.06905</td>\n",
       "      <td>0.0</td>\n",
       "      <td>2.18</td>\n",
       "      <td>0.0</td>\n",
       "      <td>0.458</td>\n",
       "      <td>7.147</td>\n",
       "      <td>54.2</td>\n",
       "      <td>6.0622</td>\n",
       "      <td>3.0</td>\n",
       "      <td>222.0</td>\n",
       "      <td>18.7</td>\n",
       "      <td>396.90</td>\n",
       "      <td>5.33</td>\n",
       "      <td>36.2</td>\n",
       "    </tr>\n",
       "  </tbody>\n",
       "</table>\n",
       "</div>"
      ],
      "text/plain": [
       "      CRIM    ZN  INDUS  CHAS    NOX     RM   AGE     DIS  RAD    TAX  \\\n",
       "0  0.00632  18.0   2.31   0.0  0.538  6.575  65.2  4.0900  1.0  296.0   \n",
       "1  0.02731   0.0   7.07   0.0  0.469  6.421  78.9  4.9671  2.0  242.0   \n",
       "2  0.02729   0.0   7.07   0.0  0.469  7.185  61.1  4.9671  2.0  242.0   \n",
       "3  0.03237   0.0   2.18   0.0  0.458  6.998  45.8  6.0622  3.0  222.0   \n",
       "4  0.06905   0.0   2.18   0.0  0.458  7.147  54.2  6.0622  3.0  222.0   \n",
       "\n",
       "   PTRATIO       B  LSTAT  Price  \n",
       "0     15.3  396.90   4.98   24.0  \n",
       "1     17.8  396.90   9.14   21.6  \n",
       "2     17.8  392.83   4.03   34.7  \n",
       "3     18.7  394.63   2.94   33.4  \n",
       "4     18.7  396.90   5.33   36.2  "
      ]
     },
     "execution_count": 47,
     "metadata": {},
     "output_type": "execute_result"
    }
   ],
   "source": [
    "bos = pd.DataFrame(boston.data)\n",
    "bos.columns = boston.feature_names\n",
    "bos['Price'] = boston.target\n",
    "bos.head()"
   ]
  },
  {
   "cell_type": "code",
   "execution_count": 51,
   "metadata": {},
   "outputs": [],
   "source": [
    "lm = LinearRegression()\n",
    "lm.fit(bos.iloc[:,0:-1],bos.iloc[:,-1])\n",
    "y_pred = lm.predict(bos.iloc[:,0:-1])"
   ]
  },
  {
   "cell_type": "code",
   "execution_count": 53,
   "metadata": {},
   "outputs": [
    {
     "data": {
      "text/plain": [
       "Text(0,0.5,'predicted price')"
      ]
     },
     "execution_count": 53,
     "metadata": {},
     "output_type": "execute_result"
    },
    {
     "data": {
      "image/png": "[encoded data removed]",
      "text/plain": [
       "<Figure size 432x288 with 1 Axes>"
      ]
     },
     "metadata": {
      "needs_background": "light"
     },
     "output_type": "display_data"
    }
   ],
   "source": [
    "plt.scatter(bos.iloc[:,-1],y_pred)\n",
    "plt.xlabel(\"actual price\")\n",
    "plt.ylabel(\"predicted price\")"
   ]
  },
  {
   "cell_type": "code",
   "execution_count": null,
   "metadata": {},
   "outputs": [],
   "source": []
  }
 ],
 "metadata": {
  "hide_input": false,
  "kernelspec": {
   "display_name": "Python 3",
   "language": "python",
   "name": "python3"
  },
  "language_info": {
   "codemirror_mode": {
    "name": "ipython",
    "version": 3
   },
   "file_extension": ".py",
   "mimetype": "text/x-python",
   "name": "python",
   "nbconvert_exporter": "python",
   "pygments_lexer": "ipython3",
   "version": "3.6.5"
  }
 },
 "nbformat": 4,
 "nbformat_minor": 2
}
