{
 "cells": [
  {
   "cell_type": "markdown",
   "metadata": {},
   "source": [
    "## Supervised Learning\n",
    "\n",
    "Machine learning has a few flavors of problems. We can think of it as ways to THINK about a problem. If we can think about a problem in this way, it gives us a framework to solve it. Suppose we have a random variable we can observe like height $H$, and a variable we want to predict like gender $G$. We know that $height$ doesn't determine gender, there are tall women and short men. Lets say we measure somebodies hight as $67$ inches and we want a predictor to estimate gender. Suppose we can compute a probability $P(G|H)$. Then if we plug in what we know (and assume men and women are equal in the population) ... we have numbers $A$ and $B$.\n",
    "\n",
    "$$A = P(G=\\mbox{Male}| H=67), B = P(G=\\mbox{Female}| H=67)$$\n",
    "\n",
    "Then if $A > B$ then it is more probable that the person is male and if $B > A$ then it is more likely it is a women. We can say this as\n",
    "\n",
    "$$ G^* = \\mbox{argmax}_G P(G| H=67)$$\n",
    "\n",
    "So $G^*$ is formally our best guess. We don't have lots of data on people who are exactly $67$ inches tall so we need to flip this a bit using Bayes formula. It follows from $P(G,H) = P(G|H)*P(H) = P(H|G)*P(G)$\n",
    "\n",
    "$$ P(G|H) = P(H|G)*P(G)/P(H) $$\n",
    "\n",
    "Now we are going to be told that $H=171$ so when we compare $G=$Male and $G=$Female, it doesn't matter what $P(H)$ is in terms of if $A>B$ or $B>A$. Also we are going to assume $P(G)$ is equal so again, since it is the same for both sides, it doesn't matter. So all we need to do is compute $P(H|G)$ which is easier. Why? Because this is the distribution of Men's heights and separately the distribution of Women's heights. We can estimate that somehow (assume normal ... whatever).\n"
   ]
  },
  {
   "cell_type": "code",
   "execution_count": 1,
   "metadata": {
    "ExecuteTime": {
     "end_time": "2018-10-31T19:08:23.905521Z",
     "start_time": "2018-10-31T19:08:23.052243Z"
    }
   },
   "outputs": [],
   "source": [
    "%matplotlib inline\n",
    "import numpy as np\n",
    "import pandas as pd\n",
    "from matplotlib import pyplot as plt\n",
    "import sklearn"
   ]
  },
  {
   "cell_type": "code",
   "execution_count": 35,
   "metadata": {
    "ExecuteTime": {
     "end_time": "2018-10-31T20:01:38.195190Z",
     "start_time": "2018-10-31T20:01:38.161673Z"
    }
   },
   "outputs": [
    {
     "data": {
      "text/html": [
       "<div>\n",
       "<style scoped>\n",
       "    .dataframe tbody tr th:only-of-type {\n",
       "        vertical-align: middle;\n",
       "    }\n",
       "\n",
       "    .dataframe tbody tr th {\n",
       "        vertical-align: top;\n",
       "    }\n",
       "\n",
       "    .dataframe thead th {\n",
       "        text-align: right;\n",
       "    }\n",
       "</style>\n",
       "<table border=\"1\" class=\"dataframe\">\n",
       "  <thead>\n",
       "    <tr style=\"text-align: right;\">\n",
       "      <th></th>\n",
       "      <th>Gender</th>\n",
       "      <th>Height</th>\n",
       "      <th>Weight</th>\n",
       "    </tr>\n",
       "  </thead>\n",
       "  <tbody>\n",
       "    <tr>\n",
       "      <th>0</th>\n",
       "      <td>Male</td>\n",
       "      <td>73.847017</td>\n",
       "      <td>241.893563</td>\n",
       "    </tr>\n",
       "    <tr>\n",
       "      <th>1</th>\n",
       "      <td>Male</td>\n",
       "      <td>68.781904</td>\n",
       "      <td>162.310473</td>\n",
       "    </tr>\n",
       "    <tr>\n",
       "      <th>2</th>\n",
       "      <td>Male</td>\n",
       "      <td>74.110105</td>\n",
       "      <td>212.740856</td>\n",
       "    </tr>\n",
       "    <tr>\n",
       "      <th>3</th>\n",
       "      <td>Male</td>\n",
       "      <td>71.730978</td>\n",
       "      <td>220.042470</td>\n",
       "    </tr>\n",
       "    <tr>\n",
       "      <th>4</th>\n",
       "      <td>Male</td>\n",
       "      <td>69.881796</td>\n",
       "      <td>206.349801</td>\n",
       "    </tr>\n",
       "  </tbody>\n",
       "</table>\n",
       "</div>"
      ],
      "text/plain": [
       "  Gender     Height      Weight\n",
       "0   Male  73.847017  241.893563\n",
       "1   Male  68.781904  162.310473\n",
       "2   Male  74.110105  212.740856\n",
       "3   Male  71.730978  220.042470\n",
       "4   Male  69.881796  206.349801"
      ]
     },
     "execution_count": 35,
     "metadata": {},
     "output_type": "execute_result"
    }
   ],
   "source": [
    "df = pd.read_csv('weight-height.csv')\n",
    "df.head()"
   ]
  },
  {
   "cell_type": "code",
   "execution_count": 40,
   "metadata": {
    "ExecuteTime": {
     "end_time": "2018-10-31T20:02:16.331803Z",
     "start_time": "2018-10-31T20:02:16.327060Z"
    }
   },
   "outputs": [],
   "source": [
    "import seaborn as sns"
   ]
  },
  {
   "cell_type": "code",
   "execution_count": 41,
   "metadata": {
    "ExecuteTime": {
     "end_time": "2018-10-31T20:02:19.869649Z",
     "start_time": "2018-10-31T20:02:19.542227Z"
    }
   },
   "outputs": [
    {
     "name": "stderr",
     "output_type": "stream",
     "text": [
      "/opt/tljh/user/lib/python3.6/site-packages/scipy/stats/stats.py:1713: FutureWarning: Using a non-tuple sequence for multidimensional indexing is deprecated; use `arr[tuple(seq)]` instead of `arr[seq]`. In the future this will be interpreted as an array index, `arr[np.array(seq)]`, which will result either in an error or a different result.\n",
      "  return np.add.reduce(sorted[indexer] * weights, axis=axis) / sumval\n"
     ]
    },
    {
     "data": {
      "text/plain": [
       "<matplotlib.axes._subplots.AxesSubplot at 0x7f7301d86a20>"
      ]
     },
     "execution_count": 41,
     "metadata": {},
     "output_type": "execute_result"
    },
    {
     "data": {
      "image/png": "[encoded data removed]",
      "text/plain": [
       "<Figure size 432x288 with 1 Axes>"
      ]
     },
     "metadata": {
      "needs_background": "light"
     },
     "output_type": "display_data"
    }
   ],
   "source": [
    "sns.violinplot(x='Gender', y='Height', data=df[['Gender', 'Height']])"
   ]
  },
  {
   "cell_type": "code",
   "execution_count": 42,
   "metadata": {
    "ExecuteTime": {
     "end_time": "2018-10-31T20:03:18.463590Z",
     "start_time": "2018-10-31T20:03:18.401911Z"
    }
   },
   "outputs": [
    {
     "data": {
      "text/html": [
       "<div>\n",
       "<style scoped>\n",
       "    .dataframe tbody tr th:only-of-type {\n",
       "        vertical-align: middle;\n",
       "    }\n",
       "\n",
       "    .dataframe tbody tr th {\n",
       "        vertical-align: top;\n",
       "    }\n",
       "\n",
       "    .dataframe thead tr th {\n",
       "        text-align: left;\n",
       "    }\n",
       "\n",
       "    .dataframe thead tr:last-of-type th {\n",
       "        text-align: right;\n",
       "    }\n",
       "</style>\n",
       "<table border=\"1\" class=\"dataframe\">\n",
       "  <thead>\n",
       "    <tr>\n",
       "      <th></th>\n",
       "      <th colspan=\"8\" halign=\"left\">Height</th>\n",
       "    </tr>\n",
       "    <tr>\n",
       "      <th></th>\n",
       "      <th>count</th>\n",
       "      <th>mean</th>\n",
       "      <th>std</th>\n",
       "      <th>min</th>\n",
       "      <th>25%</th>\n",
       "      <th>50%</th>\n",
       "      <th>75%</th>\n",
       "      <th>max</th>\n",
       "    </tr>\n",
       "    <tr>\n",
       "      <th>Gender</th>\n",
       "      <th></th>\n",
       "      <th></th>\n",
       "      <th></th>\n",
       "      <th></th>\n",
       "      <th></th>\n",
       "      <th></th>\n",
       "      <th></th>\n",
       "      <th></th>\n",
       "    </tr>\n",
       "  </thead>\n",
       "  <tbody>\n",
       "    <tr>\n",
       "      <th>Female</th>\n",
       "      <td>5000.0</td>\n",
       "      <td>63.708774</td>\n",
       "      <td>2.696284</td>\n",
       "      <td>54.263133</td>\n",
       "      <td>61.894441</td>\n",
       "      <td>63.730924</td>\n",
       "      <td>65.563565</td>\n",
       "      <td>73.389586</td>\n",
       "    </tr>\n",
       "    <tr>\n",
       "      <th>Male</th>\n",
       "      <td>5000.0</td>\n",
       "      <td>69.026346</td>\n",
       "      <td>2.863362</td>\n",
       "      <td>58.406905</td>\n",
       "      <td>67.174679</td>\n",
       "      <td>69.027709</td>\n",
       "      <td>70.988744</td>\n",
       "      <td>78.998742</td>\n",
       "    </tr>\n",
       "  </tbody>\n",
       "</table>\n",
       "</div>"
      ],
      "text/plain": [
       "        Height                                                        \\\n",
       "         count       mean       std        min        25%        50%   \n",
       "Gender                                                                 \n",
       "Female  5000.0  63.708774  2.696284  54.263133  61.894441  63.730924   \n",
       "Male    5000.0  69.026346  2.863362  58.406905  67.174679  69.027709   \n",
       "\n",
       "                              \n",
       "              75%        max  \n",
       "Gender                        \n",
       "Female  65.563565  73.389586  \n",
       "Male    70.988744  78.998742  "
      ]
     },
     "execution_count": 42,
     "metadata": {},
     "output_type": "execute_result"
    }
   ],
   "source": [
    "df[['Height',\"Gender\"]].groupby(\"Gender\").describe()"
   ]
  },
  {
   "cell_type": "code",
   "execution_count": 43,
   "metadata": {
    "ExecuteTime": {
     "end_time": "2018-10-31T20:05:35.074199Z",
     "start_time": "2018-10-31T20:05:35.059323Z"
    }
   },
   "outputs": [],
   "source": [
    "male_heights = (df[df['Gender']=='Male']['Height']).values\n",
    "female_heights = (df[df['Gender']=='Female']['Height']).values"
   ]
  },
  {
   "cell_type": "code",
   "execution_count": 45,
   "metadata": {
    "ExecuteTime": {
     "end_time": "2018-10-31T20:06:19.164328Z",
     "start_time": "2018-10-31T20:06:19.155941Z"
    }
   },
   "outputs": [
    {
     "name": "stdout",
     "output_type": "stream",
     "text": [
      "69.02634590621741 2.863075878119538\n",
      "63.70877360342507 2.696014373880709\n"
     ]
    }
   ],
   "source": [
    "print(male_heights.mean(),male_heights.std())\n",
    "print(female_heights.mean(),female_heights.std())"
   ]
  },
  {
   "cell_type": "code",
   "execution_count": 47,
   "metadata": {
    "ExecuteTime": {
     "end_time": "2018-10-31T20:17:27.677412Z",
     "start_time": "2018-10-31T20:17:27.664616Z"
    }
   },
   "outputs": [],
   "source": [
    "from scipy import stats\n",
    "rv_male = stats.norm(loc=male_heights.mean(), scale=male_heights.std())\n",
    "rv_female = stats.norm(loc=female_heights.mean(), scale=female_heights.std())"
   ]
  },
  {
   "cell_type": "code",
   "execution_count": 52,
   "metadata": {
    "ExecuteTime": {
     "end_time": "2018-10-31T20:22:19.676079Z",
     "start_time": "2018-10-31T20:22:19.667887Z"
    }
   },
   "outputs": [],
   "source": [
    "heights = np.linspace(55,79,1000)\n",
    "male_probs = rv_male.pdf(heights)\n",
    "female_probs = rv_female.pdf(heights)"
   ]
  },
  {
   "cell_type": "code",
   "execution_count": 59,
   "metadata": {
    "ExecuteTime": {
     "end_time": "2018-10-31T20:23:56.317997Z",
     "start_time": "2018-10-31T20:23:56.045148Z"
    }
   },
   "outputs": [
    {
     "data": {
      "text/plain": [
       "<matplotlib.collections.PolyCollection at 0x7f7301b17eb8>"
      ]
     },
     "execution_count": 59,
     "metadata": {},
     "output_type": "execute_result"
    },
    {
     "data": {
      "image/png": "[encoded data removed]",
      "text/plain": [
       "<Figure size 432x288 with 1 Axes>"
      ]
     },
     "metadata": {
      "needs_background": "light"
     },
     "output_type": "display_data"
    }
   ],
   "source": [
    "plt.fill_between(heights, male_probs, color='c', alpha=0.3)\n",
    "plt.fill_between(heights, female_probs, color='m', alpha=0.3)"
   ]
  },
  {
   "cell_type": "code",
   "execution_count": 72,
   "metadata": {
    "ExecuteTime": {
     "end_time": "2018-10-31T20:34:19.103505Z",
     "start_time": "2018-10-31T20:34:18.832041Z"
    }
   },
   "outputs": [
    {
     "data": {
      "text/plain": [
       "[<matplotlib.lines.Line2D at 0x7f7301810e80>]"
      ]
     },
     "execution_count": 72,
     "metadata": {},
     "output_type": "execute_result"
    },
    {
     "data": {
      "image/png": "[encoded data removed]",
      "text/plain": [
       "<Figure size 432x288 with 1 Axes>"
      ]
     },
     "metadata": {
      "needs_background": "light"
     },
     "output_type": "display_data"
    }
   ],
   "source": [
    "plt.plot(male_probs[200:-200])\n",
    "plt.plot(female_probs[200:-200])\n",
    "plt.plot(male_probs[200:-200]-female_probs[200:-200])\n",
    "plt.plot(np.abs(male_probs[200:-200]-female_probs[200:-200]))"
   ]
  },
  {
   "cell_type": "code",
   "execution_count": 74,
   "metadata": {
    "ExecuteTime": {
     "end_time": "2018-10-31T20:34:51.895323Z",
     "start_time": "2018-10-31T20:34:51.885201Z"
    }
   },
   "outputs": [
    {
     "data": {
      "text/plain": [
       "66.36336336336336"
      ]
     },
     "execution_count": 74,
     "metadata": {},
     "output_type": "execute_result"
    }
   ],
   "source": [
    "threshold = heights[200:-200][np.argmin(np.abs(male_probs[200:-200]-female_probs[200:-200]))]\n",
    "threshold"
   ]
  },
  {
   "cell_type": "code",
   "execution_count": 75,
   "metadata": {
    "ExecuteTime": {
     "end_time": "2018-10-31T20:34:56.048456Z",
     "start_time": "2018-10-31T20:34:55.770304Z"
    }
   },
   "outputs": [
    {
     "data": {
      "text/plain": [
       "[<matplotlib.lines.Line2D at 0x7f73017f2860>]"
      ]
     },
     "execution_count": 75,
     "metadata": {},
     "output_type": "execute_result"
    },
    {
     "data": {
      "image/png": "[encoded data removed]",
      "text/plain": [
       "<Figure size 432x288 with 1 Axes>"
      ]
     },
     "metadata": {
      "needs_background": "light"
     },
     "output_type": "display_data"
    }
   ],
   "source": [
    "plt.fill_between(heights, male_probs, color='c', alpha=0.3)\n",
    "plt.fill_between(heights, female_probs, color='m', alpha=0.3)\n",
    "plt.plot([threshold,threshold],[0,max([male_probs.max(),female_probs.max()])])"
   ]
  },
  {
   "cell_type": "markdown",
   "metadata": {},
   "source": [
    "This is called the generative approach because we have to model our data well enough to build a probability for it. What if we have multi-dimensional data. This seems extra hard. All we really want to do is fit a function that tells us given an input in inches whether it is male or female. That is a discriminative approach."
   ]
  },
  {
   "cell_type": "markdown",
   "metadata": {},
   "source": [
    "## Iris Data Sets\n",
    "Lets think about the Iris data set. Lets say we measure 4 variables of different iris flowers. Lets say there are 3 species (Iris setosa, Iris virginica and Iris versicolor) of this data and we want to classify which species  we are looking at. Lets say the species is a random variable $S$, and the four attributes are $W$, $X$, $Y$, $Z$. Assume we measure $W,X,Y,Z$ for a particular flower $F$. It is not clear that those properties will with 100% certainty. Lets use conditional probability to express our knowledge.\n",
    "\n",
    "$$ P(S | W, X, Y, X) $$\n",
    "\n",
    "is the probability of a species $S$ given we measured the other variables. We want to figure out which species it is given the four attributes."
   ]
  },
  {
   "cell_type": "code",
   "execution_count": 76,
   "metadata": {
    "ExecuteTime": {
     "end_time": "2018-10-31T20:45:23.867075Z",
     "start_time": "2018-10-31T20:45:23.786481Z"
    }
   },
   "outputs": [],
   "source": [
    "from sklearn import datasets\n",
    "iris = datasets.load_iris()"
   ]
  },
  {
   "cell_type": "code",
   "execution_count": 77,
   "metadata": {
    "ExecuteTime": {
     "end_time": "2018-10-31T20:46:19.951046Z",
     "start_time": "2018-10-31T20:46:19.942144Z"
    }
   },
   "outputs": [],
   "source": [
    "iris_df = pd.DataFrame(data= np.c_[iris['data'], iris['target']],\n",
    "                       columns= iris['feature_names'] + ['target'])"
   ]
  },
  {
   "cell_type": "code",
   "execution_count": 78,
   "metadata": {
    "ExecuteTime": {
     "end_time": "2018-10-31T20:46:27.588908Z",
     "start_time": "2018-10-31T20:46:27.563494Z"
    }
   },
   "outputs": [
    {
     "data": {
      "text/html": [
       "<div>\n",
       "<style scoped>\n",
       "    .dataframe tbody tr th:only-of-type {\n",
       "        vertical-align: middle;\n",
       "    }\n",
       "\n",
       "    .dataframe tbody tr th {\n",
       "        vertical-align: top;\n",
       "    }\n",
       "\n",
       "    .dataframe thead th {\n",
       "        text-align: right;\n",
       "    }\n",
       "</style>\n",
       "<table border=\"1\" class=\"dataframe\">\n",
       "  <thead>\n",
       "    <tr style=\"text-align: right;\">\n",
       "      <th></th>\n",
       "      <th>sepal length (cm)</th>\n",
       "      <th>sepal width (cm)</th>\n",
       "      <th>petal length (cm)</th>\n",
       "      <th>petal width (cm)</th>\n",
       "      <th>target</th>\n",
       "    </tr>\n",
       "  </thead>\n",
       "  <tbody>\n",
       "    <tr>\n",
       "      <th>0</th>\n",
       "      <td>5.1</td>\n",
       "      <td>3.5</td>\n",
       "      <td>1.4</td>\n",
       "      <td>0.2</td>\n",
       "      <td>0.0</td>\n",
       "    </tr>\n",
       "    <tr>\n",
       "      <th>1</th>\n",
       "      <td>4.9</td>\n",
       "      <td>3.0</td>\n",
       "      <td>1.4</td>\n",
       "      <td>0.2</td>\n",
       "      <td>0.0</td>\n",
       "    </tr>\n",
       "    <tr>\n",
       "      <th>2</th>\n",
       "      <td>4.7</td>\n",
       "      <td>3.2</td>\n",
       "      <td>1.3</td>\n",
       "      <td>0.2</td>\n",
       "      <td>0.0</td>\n",
       "    </tr>\n",
       "    <tr>\n",
       "      <th>3</th>\n",
       "      <td>4.6</td>\n",
       "      <td>3.1</td>\n",
       "      <td>1.5</td>\n",
       "      <td>0.2</td>\n",
       "      <td>0.0</td>\n",
       "    </tr>\n",
       "    <tr>\n",
       "      <th>4</th>\n",
       "      <td>5.0</td>\n",
       "      <td>3.6</td>\n",
       "      <td>1.4</td>\n",
       "      <td>0.2</td>\n",
       "      <td>0.0</td>\n",
       "    </tr>\n",
       "  </tbody>\n",
       "</table>\n",
       "</div>"
      ],
      "text/plain": [
       "   sepal length (cm)  sepal width (cm)  petal length (cm)  petal width (cm)  \\\n",
       "0                5.1               3.5                1.4               0.2   \n",
       "1                4.9               3.0                1.4               0.2   \n",
       "2                4.7               3.2                1.3               0.2   \n",
       "3                4.6               3.1                1.5               0.2   \n",
       "4                5.0               3.6                1.4               0.2   \n",
       "\n",
       "   target  \n",
       "0     0.0  \n",
       "1     0.0  \n",
       "2     0.0  \n",
       "3     0.0  \n",
       "4     0.0  "
      ]
     },
     "execution_count": 78,
     "metadata": {},
     "output_type": "execute_result"
    }
   ],
   "source": [
    "iris_df.head()"
   ]
  },
  {
   "cell_type": "code",
   "execution_count": 81,
   "metadata": {
    "ExecuteTime": {
     "end_time": "2018-10-31T20:48:58.302790Z",
     "start_time": "2018-10-31T20:48:57.863656Z"
    }
   },
   "outputs": [
    {
     "data": {
      "image/png": "[encoded data removed]",
      "text/plain": [
       "<Figure size 432x288 with 1 Axes>"
      ]
     },
     "metadata": {
      "needs_background": "light"
     },
     "output_type": "display_data"
    }
   ],
   "source": [
    " ax = sns.scatterplot(x=\"sepal length (cm)\", y=\"sepal width (cm)\", hue=\"target\", data=iris_df)"
   ]
  },
  {
   "cell_type": "code",
   "execution_count": 82,
   "metadata": {
    "ExecuteTime": {
     "end_time": "2018-10-31T22:35:05.813373Z",
     "start_time": "2018-10-31T22:35:05.786321Z"
    }
   },
   "outputs": [],
   "source": [
    "from sklearn import neighbors"
   ]
  },
  {
   "cell_type": "code",
   "execution_count": null,
   "metadata": {},
   "outputs": [],
   "source": [
    "n_neighbors = 3\n",
    "clf = neighbors.KNeighborsClassifier(n)"
   ]
  }
 ],
 "metadata": {
  "hide_input": false,
  "kernelspec": {
   "display_name": "Python 3",
   "language": "python",
   "name": "python3"
  },
  "language_info": {
   "codemirror_mode": {
    "name": "ipython",
    "version": 3
   },
   "file_extension": ".py",
   "mimetype": "text/x-python",
   "name": "python",
   "nbconvert_exporter": "python",
   "pygments_lexer": "ipython3",
   "version": "3.6.5"
  }
 },
 "nbformat": 4,
 "nbformat_minor": 2
}
