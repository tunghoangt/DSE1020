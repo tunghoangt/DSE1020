{
 "cells": [
  {
   "cell_type": "markdown",
   "metadata": {},
   "source": [
    "# PANDAS is IMPORTANT in Time series!"
   ]
  },
  {
   "cell_type": "code",
   "execution_count": 1,
   "metadata": {},
   "outputs": [
    {
     "data": {
      "text/plain": [
       "'0.23.0'"
      ]
     },
     "execution_count": 1,
     "metadata": {},
     "output_type": "execute_result"
    }
   ],
   "source": [
    "import pandas as pd\n",
    "import numpy as np\n",
    "import matplotlib.pyplot as plt\n",
    "import seaborn as sns\n",
    "pd.__version__"
   ]
  },
  {
   "cell_type": "code",
   "execution_count": 2,
   "metadata": {},
   "outputs": [],
   "source": [
    "ghcn = pd.read_csv(\"https://raw.githubusercontent.com/story645/ams_tutorials/master/data/nyc_2005_2015.csv\")"
   ]
  },
  {
   "cell_type": "code",
   "execution_count": 3,
   "metadata": {},
   "outputs": [
    {
     "name": "stdout",
     "output_type": "stream",
     "text": [
      "<class 'pandas.core.frame.DataFrame'>\n",
      "RangeIndex: 1625 entries, 0 to 1624\n",
      "Data columns (total 11 columns):\n",
      "STATION_NAME    1625 non-null object\n",
      "DATE            1625 non-null int64\n",
      "EMXP            1625 non-null int64\n",
      "MXSD            1625 non-null int64\n",
      "TPCP            1625 non-null int64\n",
      "TSNW            1625 non-null int64\n",
      "EMXT            1625 non-null int64\n",
      "EMNT            1625 non-null int64\n",
      "MMXT            1625 non-null int64\n",
      "MMNT            1625 non-null int64\n",
      "MNTM            1625 non-null int64\n",
      "dtypes: int64(10), object(1)\n",
      "memory usage: 139.7+ KB\n"
     ]
    }
   ],
   "source": [
    "ghcn.info()"
   ]
  },
  {
   "cell_type": "code",
   "execution_count": 4,
   "metadata": {},
   "outputs": [
    {
     "data": {
      "text/plain": [
       "Index(['STATION_NAME', 'DATE', 'EMXP', 'MXSD', 'TPCP', 'TSNW', 'EMXT', 'EMNT',\n",
       "       'MMXT', 'MMNT', 'MNTM'],\n",
       "      dtype='object')"
      ]
     },
     "execution_count": 4,
     "metadata": {},
     "output_type": "execute_result"
    }
   ],
   "source": [
    "ghcn.columns"
   ]
  },
  {
   "cell_type": "code",
   "execution_count": 5,
   "metadata": {},
   "outputs": [
    {
     "data": {
      "text/html": [
       "<div>\n",
       "<style scoped>\n",
       "    .dataframe tbody tr th:only-of-type {\n",
       "        vertical-align: middle;\n",
       "    }\n",
       "\n",
       "    .dataframe tbody tr th {\n",
       "        vertical-align: top;\n",
       "    }\n",
       "\n",
       "    .dataframe thead th {\n",
       "        text-align: right;\n",
       "    }\n",
       "</style>\n",
       "<table border=\"1\" class=\"dataframe\">\n",
       "  <thead>\n",
       "    <tr style=\"text-align: right;\">\n",
       "      <th></th>\n",
       "      <th>MMNT</th>\n",
       "      <th>TSNW</th>\n",
       "    </tr>\n",
       "  </thead>\n",
       "  <tbody>\n",
       "    <tr>\n",
       "      <th>5</th>\n",
       "      <td>48</td>\n",
       "      <td>0</td>\n",
       "    </tr>\n",
       "    <tr>\n",
       "      <th>7</th>\n",
       "      <td>-2</td>\n",
       "      <td>53</td>\n",
       "    </tr>\n",
       "    <tr>\n",
       "      <th>9</th>\n",
       "      <td>12</td>\n",
       "      <td>13</td>\n",
       "    </tr>\n",
       "    <tr>\n",
       "      <th>11</th>\n",
       "      <td>117</td>\n",
       "      <td>0</td>\n",
       "    </tr>\n",
       "    <tr>\n",
       "      <th>13</th>\n",
       "      <td>209</td>\n",
       "      <td>0</td>\n",
       "    </tr>\n",
       "  </tbody>\n",
       "</table>\n",
       "</div>"
      ],
      "text/plain": [
       "    MMNT  TSNW\n",
       "5     48     0\n",
       "7     -2    53\n",
       "9     12    13\n",
       "11   117     0\n",
       "13   209     0"
      ]
     },
     "execution_count": 5,
     "metadata": {},
     "output_type": "execute_result"
    }
   ],
   "source": [
    "ghcn[['MMNT','TSNW']][5:15:2] #5 to 15 but only the even one)"
   ]
  },
  {
   "cell_type": "code",
   "execution_count": 6,
   "metadata": {},
   "outputs": [
    {
     "data": {
      "text/html": [
       "<div>\n",
       "<style scoped>\n",
       "    .dataframe tbody tr th:only-of-type {\n",
       "        vertical-align: middle;\n",
       "    }\n",
       "\n",
       "    .dataframe tbody tr th {\n",
       "        vertical-align: top;\n",
       "    }\n",
       "\n",
       "    .dataframe thead th {\n",
       "        text-align: right;\n",
       "    }\n",
       "</style>\n",
       "<table border=\"1\" class=\"dataframe\">\n",
       "  <thead>\n",
       "    <tr style=\"text-align: right;\">\n",
       "      <th></th>\n",
       "      <th>TSNW</th>\n",
       "      <th>EMXT</th>\n",
       "      <th>EMNT</th>\n",
       "      <th>MMXT</th>\n",
       "      <th>MMNT</th>\n",
       "      <th>MNTM</th>\n",
       "    </tr>\n",
       "  </thead>\n",
       "  <tbody>\n",
       "    <tr>\n",
       "      <th>5</th>\n",
       "      <td>0</td>\n",
       "      <td>200</td>\n",
       "      <td>-56</td>\n",
       "      <td>134</td>\n",
       "      <td>48</td>\n",
       "      <td>91</td>\n",
       "    </tr>\n",
       "    <tr>\n",
       "      <th>7</th>\n",
       "      <td>53</td>\n",
       "      <td>167</td>\n",
       "      <td>-100</td>\n",
       "      <td>81</td>\n",
       "      <td>-2</td>\n",
       "      <td>40</td>\n",
       "    </tr>\n",
       "    <tr>\n",
       "      <th>9</th>\n",
       "      <td>13</td>\n",
       "      <td>217</td>\n",
       "      <td>-56</td>\n",
       "      <td>96</td>\n",
       "      <td>12</td>\n",
       "      <td>54</td>\n",
       "    </tr>\n",
       "    <tr>\n",
       "      <th>11</th>\n",
       "      <td>0</td>\n",
       "      <td>289</td>\n",
       "      <td>72</td>\n",
       "      <td>207</td>\n",
       "      <td>117</td>\n",
       "      <td>162</td>\n",
       "    </tr>\n",
       "    <tr>\n",
       "      <th>13</th>\n",
       "      <td>0</td>\n",
       "      <td>350</td>\n",
       "      <td>167</td>\n",
       "      <td>289</td>\n",
       "      <td>209</td>\n",
       "      <td>249</td>\n",
       "    </tr>\n",
       "  </tbody>\n",
       "</table>\n",
       "</div>"
      ],
      "text/plain": [
       "    TSNW  EMXT  EMNT  MMXT  MMNT  MNTM\n",
       "5      0   200   -56   134    48    91\n",
       "7     53   167  -100    81    -2    40\n",
       "9     13   217   -56    96    12    54\n",
       "11     0   289    72   207   117   162\n",
       "13     0   350   167   289   209   249"
      ]
     },
     "execution_count": 6,
     "metadata": {},
     "output_type": "execute_result"
    }
   ],
   "source": [
    "#ghcn.loc[5:15:2,'TSNW':'MNTM']\n",
    "ghcn.iloc[5:15:2,5:11] #doing by index\n",
    "\n"
   ]
  },
  {
   "cell_type": "code",
   "execution_count": 7,
   "metadata": {},
   "outputs": [
    {
     "data": {
      "text/plain": [
       "(-9999, 239, -2825.9304615384617)"
      ]
     },
     "execution_count": 7,
     "metadata": {},
     "output_type": "execute_result"
    }
   ],
   "source": [
    "ghcn['MMNT'].min(),ghcn['MMNT'].max(),ghcn['MMNT'].mean(),"
   ]
  },
  {
   "cell_type": "code",
   "execution_count": 8,
   "metadata": {},
   "outputs": [],
   "source": [
    "ghcn.replace(-9999,np.nan,inplace=True) #replace -9999 with NaN"
   ]
  },
  {
   "cell_type": "code",
   "execution_count": 9,
   "metadata": {},
   "outputs": [
    {
     "data": {
      "text/html": [
       "<div>\n",
       "<style scoped>\n",
       "    .dataframe tbody tr th:only-of-type {\n",
       "        vertical-align: middle;\n",
       "    }\n",
       "\n",
       "    .dataframe tbody tr th {\n",
       "        vertical-align: top;\n",
       "    }\n",
       "\n",
       "    .dataframe thead th {\n",
       "        text-align: right;\n",
       "    }\n",
       "</style>\n",
       "<table border=\"1\" class=\"dataframe\">\n",
       "  <thead>\n",
       "    <tr style=\"text-align: right;\">\n",
       "      <th></th>\n",
       "      <th>DATE</th>\n",
       "      <th>EMXP</th>\n",
       "      <th>MXSD</th>\n",
       "      <th>TPCP</th>\n",
       "      <th>TSNW</th>\n",
       "      <th>EMXT</th>\n",
       "      <th>EMNT</th>\n",
       "      <th>MMXT</th>\n",
       "      <th>MMNT</th>\n",
       "      <th>MNTM</th>\n",
       "    </tr>\n",
       "  </thead>\n",
       "  <tbody>\n",
       "    <tr>\n",
       "      <th>count</th>\n",
       "      <td>1.625000e+03</td>\n",
       "      <td>1622.000000</td>\n",
       "      <td>987.000000</td>\n",
       "      <td>1622.000000</td>\n",
       "      <td>1320.000000</td>\n",
       "      <td>1156.000000</td>\n",
       "      <td>1156.000000</td>\n",
       "      <td>1156.000000</td>\n",
       "      <td>1156.000000</td>\n",
       "      <td>1156.000000</td>\n",
       "    </tr>\n",
       "    <tr>\n",
       "      <th>mean</th>\n",
       "      <td>2.009903e+07</td>\n",
       "      <td>370.113440</td>\n",
       "      <td>49.962513</td>\n",
       "      <td>977.469174</td>\n",
       "      <td>53.769697</td>\n",
       "      <td>255.468858</td>\n",
       "      <td>16.496540</td>\n",
       "      <td>169.991349</td>\n",
       "      <td>84.250865</td>\n",
       "      <td>127.134948</td>\n",
       "    </tr>\n",
       "    <tr>\n",
       "      <th>std</th>\n",
       "      <td>2.654034e+04</td>\n",
       "      <td>270.251403</td>\n",
       "      <td>108.166236</td>\n",
       "      <td>665.199628</td>\n",
       "      <td>151.237483</td>\n",
       "      <td>82.013978</td>\n",
       "      <td>96.101295</td>\n",
       "      <td>90.428972</td>\n",
       "      <td>84.560433</td>\n",
       "      <td>87.190188</td>\n",
       "    </tr>\n",
       "    <tr>\n",
       "      <th>min</th>\n",
       "      <td>2.005060e+07</td>\n",
       "      <td>0.000000</td>\n",
       "      <td>0.000000</td>\n",
       "      <td>0.000000</td>\n",
       "      <td>0.000000</td>\n",
       "      <td>44.000000</td>\n",
       "      <td>-182.000000</td>\n",
       "      <td>-7.000000</td>\n",
       "      <td>-83.000000</td>\n",
       "      <td>-44.000000</td>\n",
       "    </tr>\n",
       "    <tr>\n",
       "      <th>25%</th>\n",
       "      <td>2.008040e+07</td>\n",
       "      <td>208.000000</td>\n",
       "      <td>0.000000</td>\n",
       "      <td>553.000000</td>\n",
       "      <td>0.000000</td>\n",
       "      <td>189.000000</td>\n",
       "      <td>-71.000000</td>\n",
       "      <td>87.750000</td>\n",
       "      <td>4.750000</td>\n",
       "      <td>47.000000</td>\n",
       "    </tr>\n",
       "    <tr>\n",
       "      <th>50%</th>\n",
       "      <td>2.010040e+07</td>\n",
       "      <td>305.000000</td>\n",
       "      <td>0.000000</td>\n",
       "      <td>880.500000</td>\n",
       "      <td>0.000000</td>\n",
       "      <td>269.500000</td>\n",
       "      <td>17.000000</td>\n",
       "      <td>176.000000</td>\n",
       "      <td>82.000000</td>\n",
       "      <td>128.000000</td>\n",
       "    </tr>\n",
       "    <tr>\n",
       "      <th>75%</th>\n",
       "      <td>2.012070e+07</td>\n",
       "      <td>460.000000</td>\n",
       "      <td>45.500000</td>\n",
       "      <td>1250.000000</td>\n",
       "      <td>5.000000</td>\n",
       "      <td>323.500000</td>\n",
       "      <td>100.000000</td>\n",
       "      <td>255.000000</td>\n",
       "      <td>165.000000</td>\n",
       "      <td>210.250000</td>\n",
       "    </tr>\n",
       "    <tr>\n",
       "      <th>max</th>\n",
       "      <td>2.014120e+07</td>\n",
       "      <td>2443.000000</td>\n",
       "      <td>584.000000</td>\n",
       "      <td>4813.000000</td>\n",
       "      <td>1023.000000</td>\n",
       "      <td>539.000000</td>\n",
       "      <td>200.000000</td>\n",
       "      <td>336.000000</td>\n",
       "      <td>239.000000</td>\n",
       "      <td>282.000000</td>\n",
       "    </tr>\n",
       "  </tbody>\n",
       "</table>\n",
       "</div>"
      ],
      "text/plain": [
       "               DATE         EMXP        MXSD         TPCP         TSNW  \\\n",
       "count  1.625000e+03  1622.000000  987.000000  1622.000000  1320.000000   \n",
       "mean   2.009903e+07   370.113440   49.962513   977.469174    53.769697   \n",
       "std    2.654034e+04   270.251403  108.166236   665.199628   151.237483   \n",
       "min    2.005060e+07     0.000000    0.000000     0.000000     0.000000   \n",
       "25%    2.008040e+07   208.000000    0.000000   553.000000     0.000000   \n",
       "50%    2.010040e+07   305.000000    0.000000   880.500000     0.000000   \n",
       "75%    2.012070e+07   460.000000   45.500000  1250.000000     5.000000   \n",
       "max    2.014120e+07  2443.000000  584.000000  4813.000000  1023.000000   \n",
       "\n",
       "              EMXT         EMNT         MMXT         MMNT         MNTM  \n",
       "count  1156.000000  1156.000000  1156.000000  1156.000000  1156.000000  \n",
       "mean    255.468858    16.496540   169.991349    84.250865   127.134948  \n",
       "std      82.013978    96.101295    90.428972    84.560433    87.190188  \n",
       "min      44.000000  -182.000000    -7.000000   -83.000000   -44.000000  \n",
       "25%     189.000000   -71.000000    87.750000     4.750000    47.000000  \n",
       "50%     269.500000    17.000000   176.000000    82.000000   128.000000  \n",
       "75%     323.500000   100.000000   255.000000   165.000000   210.250000  \n",
       "max     539.000000   200.000000   336.000000   239.000000   282.000000  "
      ]
     },
     "execution_count": 9,
     "metadata": {},
     "output_type": "execute_result"
    }
   ],
   "source": [
    "ghcn.describe()"
   ]
  },
  {
   "cell_type": "code",
   "execution_count": 10,
   "metadata": {},
   "outputs": [
    {
     "data": {
      "text/plain": [
       "array([[<matplotlib.axes._subplots.AxesSubplot object at 0x0000020BD9B347F0>,\n",
       "        <matplotlib.axes._subplots.AxesSubplot object at 0x0000020BD9D47A90>]],\n",
       "      dtype=object)"
      ]
     },
     "execution_count": 10,
     "metadata": {},
     "output_type": "execute_result"
    },
    {
     "data": {
      "image/png": "[encoded data removed]",
      "text/plain": [
       "<Figure size 432x288 with 2 Axes>"
      ]
     },
     "metadata": {},
     "output_type": "display_data"
    }
   ],
   "source": [
    "%matplotlib inline \n",
    "ghcn[['MNTM','TPCP']].hist()"
   ]
  },
  {
   "cell_type": "code",
   "execution_count": 11,
   "metadata": {},
   "outputs": [
    {
     "data": {
      "image/png": "[encoded data removed]",
      "text/plain": [
       "<Figure size 432x288 with 1 Axes>"
      ]
     },
     "metadata": {},
     "output_type": "display_data"
    }
   ],
   "source": [
    "fig, ax = plt.subplots()\n",
    "_ = ghcn['MNTM'].hist(histtype='step', ax=ax, label='average')\n",
    "_ = ghcn['MMNT'].hist(histtype='step', ax=ax, label='min')\n",
    "_ = ghcn['MMXT'].hist(histtype='step', ax=ax, label='max')\n",
    "_ = ax.legend(loc='upper left',ncol=3)\n",
    "_ = ax.set_title(\"Mean Monthly Temperature\")\n",
    "_ = ax.set_xlabel(\"Tenth of a degree Celcius\")\n",
    "_ = ax.set_ylabel(\"Frequency\")\n",
    "_ = ax.grid(False)"
   ]
  },
  {
   "cell_type": "code",
   "execution_count": 12,
   "metadata": {},
   "outputs": [
    {
     "data": {
      "image/png": "[encoded data removed]",
      "text/plain": [
       "<Figure size 864x288 with 2 Axes>"
      ]
     },
     "metadata": {},
     "output_type": "display_data"
    }
   ],
   "source": [
    "fig, (ax1,ax2) = plt.subplots(figsize=(12,4), ncols =2)\n",
    "_ = ghcn[['MNTM','MMNT','MMXT']].plot.kde(ax=ax1)\n",
    "_ = ghcn[['MNTM','MMNT','MMXT']].boxplot(ax=ax2)"
   ]
  },
  {
   "cell_type": "code",
   "execution_count": 13,
   "metadata": {},
   "outputs": [
    {
     "data": {
      "text/plain": [
       "CENTERPORT NY US                                    121\n",
       "NEW YORK LAGUARDIA AIRPORT NY US                    121\n",
       "FARMINGDALE REPUBLIC AIRPORT NY US                  121\n",
       "WESTCHESTER CO AIRPORT NY US                        121\n",
       "NEW YORK CENTRAL PARK OBS BELVEDERE TOWER NY US     121\n",
       "NEW YORK J F KENNEDY INTERNATIONAL AIRPORT NY US    121\n",
       "BRONX NY US                                         101\n",
       "DOBBS FERRY ARDSLEY NY US                            83\n",
       "WANTAGH CEDAR CREEK NY US                            83\n",
       "MINEOLA NY US                                        83\n",
       "FLORAL PARK 0.4 W NY US                              81\n",
       "STATEN ISLAND 4.5 SSE NY US                          60\n",
       "OCEANSIDE NY US                                      57\n",
       "LEVITTOWN 0.2 E NY US                                54\n",
       "STATEN ISLAND 1.4 SE NY US                           41\n",
       "MIDDLE VILLAGE 0.5 SW NY US                          39\n",
       "NEW ROCHELLE 1.3 S NY US                             35\n",
       "WEST NYACK 1.3 WSW NY US                             31\n",
       "WHITE PLAINS 3.1 NNW NY US                           29\n",
       "SPRING VALLEY 1.7 N NY US                            26\n",
       "NEW YORK NY US                                       23\n",
       "BETHPAGE 0.9 NNW NY US                               17\n",
       "BROOKLYN 3.1 NW NY US                                14\n",
       "NANUET 0.3 E NY US                                   13\n",
       "CHESTNUT RIDGE 0.3 SSW NY US                          9\n",
       "BROOKLYN 2.4 SW NY US                                 7\n",
       "MILL NECK 1.1 SW NY US                                7\n",
       "HARRISON 4.1 SSW NY US                                6\n",
       "Name: STATION_NAME, dtype: int64"
      ]
     },
     "execution_count": 13,
     "metadata": {},
     "output_type": "execute_result"
    }
   ],
   "source": [
    "ghcn['STATION_NAME'].value_counts() #show # of measurements by Station"
   ]
  },
  {
   "cell_type": "code",
   "execution_count": 14,
   "metadata": {},
   "outputs": [
    {
     "data": {
      "text/plain": [
       "<matplotlib.axes._subplots.AxesSubplot at 0x20bd9e794a8>"
      ]
     },
     "execution_count": 14,
     "metadata": {},
     "output_type": "execute_result"
    },
    {
     "data": {
      "image/png": "[encoded data removed]",
      "text/plain": [
       "<Figure size 432x288 with 1 Axes>"
      ]
     },
     "metadata": {},
     "output_type": "display_data"
    }
   ],
   "source": [
    "ghcn['STATION_NAME'].value_counts().plot.bar()"
   ]
  },
  {
   "cell_type": "code",
   "execution_count": 15,
   "metadata": {},
   "outputs": [
    {
     "data": {
      "text/html": [
       "<div>\n",
       "<style scoped>\n",
       "    .dataframe tbody tr th:only-of-type {\n",
       "        vertical-align: middle;\n",
       "    }\n",
       "\n",
       "    .dataframe tbody tr th {\n",
       "        vertical-align: top;\n",
       "    }\n",
       "\n",
       "    .dataframe thead th {\n",
       "        text-align: right;\n",
       "    }\n",
       "</style>\n",
       "<table border=\"1\" class=\"dataframe\">\n",
       "  <thead>\n",
       "    <tr style=\"text-align: right;\">\n",
       "      <th></th>\n",
       "      <th>STATION_NAME</th>\n",
       "      <th>DATE</th>\n",
       "      <th>EMXP</th>\n",
       "      <th>MXSD</th>\n",
       "      <th>TPCP</th>\n",
       "      <th>TSNW</th>\n",
       "      <th>EMXT</th>\n",
       "      <th>EMNT</th>\n",
       "      <th>MMXT</th>\n",
       "      <th>MMNT</th>\n",
       "      <th>MNTM</th>\n",
       "    </tr>\n",
       "  </thead>\n",
       "  <tbody>\n",
       "    <tr>\n",
       "      <th>67</th>\n",
       "      <td>HARRISON 4.1 SSW NY US</td>\n",
       "      <td>20090801</td>\n",
       "      <td>414.0</td>\n",
       "      <td>NaN</td>\n",
       "      <td>1427.0</td>\n",
       "      <td>0.0</td>\n",
       "      <td>NaN</td>\n",
       "      <td>NaN</td>\n",
       "      <td>NaN</td>\n",
       "      <td>NaN</td>\n",
       "      <td>NaN</td>\n",
       "    </tr>\n",
       "    <tr>\n",
       "      <th>68</th>\n",
       "      <td>HARRISON 4.1 SSW NY US</td>\n",
       "      <td>20090901</td>\n",
       "      <td>185.0</td>\n",
       "      <td>NaN</td>\n",
       "      <td>636.0</td>\n",
       "      <td>0.0</td>\n",
       "      <td>NaN</td>\n",
       "      <td>NaN</td>\n",
       "      <td>NaN</td>\n",
       "      <td>NaN</td>\n",
       "      <td>NaN</td>\n",
       "    </tr>\n",
       "    <tr>\n",
       "      <th>69</th>\n",
       "      <td>HARRISON 4.1 SSW NY US</td>\n",
       "      <td>20091001</td>\n",
       "      <td>287.0</td>\n",
       "      <td>NaN</td>\n",
       "      <td>1426.0</td>\n",
       "      <td>0.0</td>\n",
       "      <td>NaN</td>\n",
       "      <td>NaN</td>\n",
       "      <td>NaN</td>\n",
       "      <td>NaN</td>\n",
       "      <td>NaN</td>\n",
       "    </tr>\n",
       "    <tr>\n",
       "      <th>70</th>\n",
       "      <td>HARRISON 4.1 SSW NY US</td>\n",
       "      <td>20091101</td>\n",
       "      <td>74.0</td>\n",
       "      <td>NaN</td>\n",
       "      <td>205.0</td>\n",
       "      <td>0.0</td>\n",
       "      <td>NaN</td>\n",
       "      <td>NaN</td>\n",
       "      <td>NaN</td>\n",
       "      <td>NaN</td>\n",
       "      <td>NaN</td>\n",
       "    </tr>\n",
       "    <tr>\n",
       "      <th>71</th>\n",
       "      <td>HARRISON 4.1 SSW NY US</td>\n",
       "      <td>20091201</td>\n",
       "      <td>277.0</td>\n",
       "      <td>165.0</td>\n",
       "      <td>1597.0</td>\n",
       "      <td>163.0</td>\n",
       "      <td>NaN</td>\n",
       "      <td>NaN</td>\n",
       "      <td>NaN</td>\n",
       "      <td>NaN</td>\n",
       "      <td>NaN</td>\n",
       "    </tr>\n",
       "    <tr>\n",
       "      <th>921</th>\n",
       "      <td>HARRISON 4.1 SSW NY US</td>\n",
       "      <td>20101001</td>\n",
       "      <td>0.0</td>\n",
       "      <td>NaN</td>\n",
       "      <td>0.0</td>\n",
       "      <td>0.0</td>\n",
       "      <td>NaN</td>\n",
       "      <td>NaN</td>\n",
       "      <td>NaN</td>\n",
       "      <td>NaN</td>\n",
       "      <td>NaN</td>\n",
       "    </tr>\n",
       "  </tbody>\n",
       "</table>\n",
       "</div>"
      ],
      "text/plain": [
       "               STATION_NAME      DATE   EMXP   MXSD    TPCP   TSNW  EMXT  \\\n",
       "67   HARRISON 4.1 SSW NY US  20090801  414.0    NaN  1427.0    0.0   NaN   \n",
       "68   HARRISON 4.1 SSW NY US  20090901  185.0    NaN   636.0    0.0   NaN   \n",
       "69   HARRISON 4.1 SSW NY US  20091001  287.0    NaN  1426.0    0.0   NaN   \n",
       "70   HARRISON 4.1 SSW NY US  20091101   74.0    NaN   205.0    0.0   NaN   \n",
       "71   HARRISON 4.1 SSW NY US  20091201  277.0  165.0  1597.0  163.0   NaN   \n",
       "921  HARRISON 4.1 SSW NY US  20101001    0.0    NaN     0.0    0.0   NaN   \n",
       "\n",
       "     EMNT  MMXT  MMNT  MNTM  \n",
       "67    NaN   NaN   NaN   NaN  \n",
       "68    NaN   NaN   NaN   NaN  \n",
       "69    NaN   NaN   NaN   NaN  \n",
       "70    NaN   NaN   NaN   NaN  \n",
       "71    NaN   NaN   NaN   NaN  \n",
       "921   NaN   NaN   NaN   NaN  "
      ]
     },
     "execution_count": 15,
     "metadata": {},
     "output_type": "execute_result"
    }
   ],
   "source": [
    "ghcn[ghcn['STATION_NAME'].str.contains('HARRISON')]"
   ]
  },
  {
   "cell_type": "code",
   "execution_count": 16,
   "metadata": {},
   "outputs": [
    {
     "data": {
      "image/png": "[encoded data removed]",
      "text/plain": [
       "<Figure size 432x288 with 1 Axes>"
      ]
     },
     "metadata": {},
     "output_type": "display_data"
    }
   ],
   "source": [
    "g=sns.boxplot(y='MNTM',x='STATION_NAME',data=ghcn, order =ghcn['STATION_NAME'].value_counts().keys())\n",
    "_ = g.get_xticklabels(g.get_xticklabels())"
   ]
  },
  {
   "cell_type": "code",
   "execution_count": 17,
   "metadata": {},
   "outputs": [
    {
     "data": {
      "text/plain": [
       "0   2005-06-01\n",
       "1   2005-07-01\n",
       "2   2005-08-01\n",
       "3   2005-09-01\n",
       "4   2005-10-01\n",
       "Name: date, dtype: datetime64[ns]"
      ]
     },
     "execution_count": 17,
     "metadata": {},
     "output_type": "execute_result"
    }
   ],
   "source": [
    "ghcn['date']=pd.to_datetime(ghcn['DATE'],format='%Y%m%d')\n",
    "ghcn['date'].head()"
   ]
  },
  {
   "cell_type": "code",
   "execution_count": 18,
   "metadata": {},
   "outputs": [
    {
     "data": {
      "text/plain": [
       "dict_keys(['BETHPAGE 0.9 NNW NY US', 'BRONX NY US', 'BROOKLYN 2.4 SW NY US', 'BROOKLYN 3.1 NW NY US', 'CENTERPORT NY US', 'CHESTNUT RIDGE 0.3 SSW NY US', 'DOBBS FERRY ARDSLEY NY US', 'FARMINGDALE REPUBLIC AIRPORT NY US', 'FLORAL PARK 0.4 W NY US', 'HARRISON 4.1 SSW NY US', 'LEVITTOWN 0.2 E NY US', 'MIDDLE VILLAGE 0.5 SW NY US', 'MILL NECK 1.1 SW NY US', 'MINEOLA NY US', 'NANUET 0.3 E NY US', 'NEW ROCHELLE 1.3 S NY US', 'NEW YORK CENTRAL PARK OBS BELVEDERE TOWER NY US', 'NEW YORK J F KENNEDY INTERNATIONAL AIRPORT NY US', 'NEW YORK LAGUARDIA AIRPORT NY US', 'NEW YORK NY US', 'OCEANSIDE NY US', 'SPRING VALLEY 1.7 N NY US', 'STATEN ISLAND 1.4 SE NY US', 'STATEN ISLAND 4.5 SSE NY US', 'WANTAGH CEDAR CREEK NY US', 'WEST NYACK 1.3 WSW NY US', 'WESTCHESTER CO AIRPORT NY US', 'WHITE PLAINS 3.1 NNW NY US'])"
      ]
     },
     "execution_count": 18,
     "metadata": {},
     "output_type": "execute_result"
    }
   ],
   "source": [
    "stations = dict(list(ghcn.groupby('STATION_NAME')))\n",
    "stations.keys()"
   ]
  },
  {
   "cell_type": "code",
   "execution_count": 19,
   "metadata": {},
   "outputs": [
    {
     "data": {
      "text/html": [
       "<div>\n",
       "<style scoped>\n",
       "    .dataframe tbody tr th:only-of-type {\n",
       "        vertical-align: middle;\n",
       "    }\n",
       "\n",
       "    .dataframe tbody tr th {\n",
       "        vertical-align: top;\n",
       "    }\n",
       "\n",
       "    .dataframe thead th {\n",
       "        text-align: right;\n",
       "    }\n",
       "</style>\n",
       "<table border=\"1\" class=\"dataframe\">\n",
       "  <thead>\n",
       "    <tr style=\"text-align: right;\">\n",
       "      <th></th>\n",
       "      <th>STATION_NAME</th>\n",
       "      <th>DATE</th>\n",
       "      <th>EMXP</th>\n",
       "      <th>MXSD</th>\n",
       "      <th>TPCP</th>\n",
       "      <th>TSNW</th>\n",
       "      <th>EMXT</th>\n",
       "      <th>EMNT</th>\n",
       "      <th>MMXT</th>\n",
       "      <th>MMNT</th>\n",
       "      <th>MNTM</th>\n",
       "      <th>date</th>\n",
       "    </tr>\n",
       "  </thead>\n",
       "  <tbody>\n",
       "    <tr>\n",
       "      <th>216</th>\n",
       "      <td>NEW YORK CENTRAL PARK OBS BELVEDERE TOWER NY US</td>\n",
       "      <td>20050601</td>\n",
       "      <td>150.0</td>\n",
       "      <td>0.0</td>\n",
       "      <td>815.0</td>\n",
       "      <td>0.0</td>\n",
       "      <td>339.0</td>\n",
       "      <td>122.0</td>\n",
       "      <td>279.0</td>\n",
       "      <td>188.0</td>\n",
       "      <td>233.0</td>\n",
       "      <td>2005-06-01</td>\n",
       "    </tr>\n",
       "    <tr>\n",
       "      <th>217</th>\n",
       "      <td>NEW YORK CENTRAL PARK OBS BELVEDERE TOWER NY US</td>\n",
       "      <td>20050701</td>\n",
       "      <td>386.0</td>\n",
       "      <td>0.0</td>\n",
       "      <td>906.0</td>\n",
       "      <td>0.0</td>\n",
       "      <td>361.0</td>\n",
       "      <td>167.0</td>\n",
       "      <td>294.0</td>\n",
       "      <td>212.0</td>\n",
       "      <td>253.0</td>\n",
       "      <td>2005-07-01</td>\n",
       "    </tr>\n",
       "    <tr>\n",
       "      <th>218</th>\n",
       "      <td>NEW YORK CENTRAL PARK OBS BELVEDERE TOWER NY US</td>\n",
       "      <td>20050801</td>\n",
       "      <td>787.0</td>\n",
       "      <td>0.0</td>\n",
       "      <td>1007.0</td>\n",
       "      <td>0.0</td>\n",
       "      <td>372.0</td>\n",
       "      <td>183.0</td>\n",
       "      <td>306.0</td>\n",
       "      <td>223.0</td>\n",
       "      <td>265.0</td>\n",
       "      <td>2005-08-01</td>\n",
       "    </tr>\n",
       "    <tr>\n",
       "      <th>219</th>\n",
       "      <td>NEW YORK CENTRAL PARK OBS BELVEDERE TOWER NY US</td>\n",
       "      <td>20050901</td>\n",
       "      <td>43.0</td>\n",
       "      <td>0.0</td>\n",
       "      <td>121.0</td>\n",
       "      <td>0.0</td>\n",
       "      <td>333.0</td>\n",
       "      <td>100.0</td>\n",
       "      <td>276.0</td>\n",
       "      <td>183.0</td>\n",
       "      <td>229.0</td>\n",
       "      <td>2005-09-01</td>\n",
       "    </tr>\n",
       "    <tr>\n",
       "      <th>220</th>\n",
       "      <td>NEW YORK CENTRAL PARK OBS BELVEDERE TOWER NY US</td>\n",
       "      <td>20051001</td>\n",
       "      <td>1082.0</td>\n",
       "      <td>0.0</td>\n",
       "      <td>4250.0</td>\n",
       "      <td>0.0</td>\n",
       "      <td>267.0</td>\n",
       "      <td>39.0</td>\n",
       "      <td>176.0</td>\n",
       "      <td>111.0</td>\n",
       "      <td>144.0</td>\n",
       "      <td>2005-10-01</td>\n",
       "    </tr>\n",
       "  </tbody>\n",
       "</table>\n",
       "</div>"
      ],
      "text/plain": [
       "                                        STATION_NAME      DATE    EMXP  MXSD  \\\n",
       "216  NEW YORK CENTRAL PARK OBS BELVEDERE TOWER NY US  20050601   150.0   0.0   \n",
       "217  NEW YORK CENTRAL PARK OBS BELVEDERE TOWER NY US  20050701   386.0   0.0   \n",
       "218  NEW YORK CENTRAL PARK OBS BELVEDERE TOWER NY US  20050801   787.0   0.0   \n",
       "219  NEW YORK CENTRAL PARK OBS BELVEDERE TOWER NY US  20050901    43.0   0.0   \n",
       "220  NEW YORK CENTRAL PARK OBS BELVEDERE TOWER NY US  20051001  1082.0   0.0   \n",
       "\n",
       "       TPCP  TSNW   EMXT   EMNT   MMXT   MMNT   MNTM       date  \n",
       "216   815.0   0.0  339.0  122.0  279.0  188.0  233.0 2005-06-01  \n",
       "217   906.0   0.0  361.0  167.0  294.0  212.0  253.0 2005-07-01  \n",
       "218  1007.0   0.0  372.0  183.0  306.0  223.0  265.0 2005-08-01  \n",
       "219   121.0   0.0  333.0  100.0  276.0  183.0  229.0 2005-09-01  \n",
       "220  4250.0   0.0  267.0   39.0  176.0  111.0  144.0 2005-10-01  "
      ]
     },
     "execution_count": 19,
     "metadata": {},
     "output_type": "execute_result"
    }
   ],
   "source": [
    "cpd = stations['NEW YORK CENTRAL PARK OBS BELVEDERE TOWER NY US']\n",
    "cpd.head()"
   ]
  },
  {
   "cell_type": "code",
   "execution_count": null,
   "metadata": {},
   "outputs": [],
   "source": []
  },
  {
   "cell_type": "code",
   "execution_count": 22,
   "metadata": {},
   "outputs": [],
   "source": [
    "cpd = cpd[['MNTM','date']].set_index(cpd['date'])"
   ]
  },
  {
   "cell_type": "code",
   "execution_count": 23,
   "metadata": {},
   "outputs": [],
   "source": [
    "#_=cpd.plot()"
   ]
  },
  {
   "cell_type": "code",
   "execution_count": 27,
   "metadata": {},
   "outputs": [
    {
     "data": {
      "image/png": "[encoded data removed]",
      "text/plain": [
       "<Figure size 432x288 with 1 Axes>"
      ]
     },
     "metadata": {},
     "output_type": "display_data"
    }
   ],
   "source": [
    "_= pd.plotting.lag_plot(cpd['MNTM'],lag=12) #looking at the relationship between 1 month and the next month, seeing seasonality with lag varies"
   ]
  },
  {
   "cell_type": "code",
   "execution_count": null,
   "metadata": {},
   "outputs": [],
   "source": []
  }
 ],
 "metadata": {
  "kernelspec": {
   "display_name": "Python 3",
   "language": "python",
   "name": "python3"
  },
  "language_info": {
   "codemirror_mode": {
    "name": "ipython",
    "version": 3
   },
   "file_extension": ".py",
   "mimetype": "text/x-python",
   "name": "python",
   "nbconvert_exporter": "python",
   "pygments_lexer": "ipython3",
   "version": "3.6.5"
  }
 },
 "nbformat": 4,
 "nbformat_minor": 2
}
