{
 "cells": [
  {
   "cell_type": "code",
   "execution_count": 1,
   "metadata": {},
   "outputs": [],
   "source": [
    "from bs4 import BeautifulSoup as BS\n",
    "import requests\n",
    "import nltk"
   ]
  },
  {
   "cell_type": "code",
   "execution_count": 8,
   "metadata": {},
   "outputs": [
    {
     "name": "stdout",
     "output_type": "stream",
     "text": [
      "\n",
      "\n",
      "\n",
      "\n",
      "Battle-Pieces and Aspects of the War, by Herman Melville\n",
      "\r\n",
      "  <!--\r\n",
      "\r\n",
      "    body {\r\n",
      "      font-family: Verdana, Arial, sans-serif;\r\n",
      "    }\r\n",
      "\r\n",
      "    h1,h2,h3,h4,h5,h6 {\r\n",
      "      text-align: center;\r\n",
      "      font-weight: bold;\r\n",
      "      font-variant: small-caps;\r\n",
      "    }\r\n",
      "\r\n",
      "    .smallcaps, #dedication { font-variant: small-caps; }\r\n",
      "\r\n",
      "    a { text-decoration: none;  }\r\n",
      "    a:hover { background-color: #ffffcc; }\r\n",
      "\r\n",
      "    div.section, .part, #toc, #verso, #dedication {\r\n",
      "      margin-top: 4em;\r\n",
      "      padding: 5px;\n"
     ]
    }
   ],
   "source": [
    "r = requests.get('http://www.gutenberg.org/files/12384/12384-h/12384-h.htm')\n",
    "r.encoding = 'utf-8'\n",
    "soup = BS(r.text,'html.parser')\n",
    "text = soup.get_text()\n",
    "print(text[:500])"
   ]
  },
  {
   "cell_type": "code",
   "execution_count": 14,
   "metadata": {},
   "outputs": [
    {
     "name": "stdout",
     "output_type": "stream",
     "text": [
      "[nltk_data] Downloading package stopwords to\n",
      "[nltk_data]     C:\\Users\\Tony\\AppData\\Roaming\\nltk_data...\n",
      "[nltk_data]   Package stopwords is already up-to-date!\n",
      "\n",
      "First 10 words that are not stopwords ['battle', 'pieces', 'aspects', 'war', 'herman', 'melville', 'body', 'font', 'family', 'verdana']\n"
     ]
    }
   ],
   "source": [
    "tokenizer = nltk.tokenize.RegexpTokenizer('\\w+')\n",
    "tokens = tokenizer.tokenize(text)\n",
    "nltk.download('stopwords')\n",
    "sw = nltk.corpus.stopwords.words('english')\n",
    "words = []\n",
    "for word in tokens:\n",
    "    word = word.lower()\n",
    "    if word not in sw:\n",
    "        words.append(word)\n",
    "print()\n",
    "print('First 10 words that are not stopwords', words[:10])"
   ]
  },
  {
   "cell_type": "code",
   "execution_count": 38,
   "metadata": {},
   "outputs": [
    {
     "name": "stdout",
     "output_type": "stream",
     "text": [
      "Most 25 common words: ['mosby', 'one', 'like', 'gutenberg', 'project', 'shall', 'yet', 'men', 'man', 'war', 'may', 'tm', 'work', '1', 'heart', 'though', 'fight', 'must', 'well', 'south', 'every', 'night', 'upon', 'long', 'come']\n"
     ]
    },
    {
     "data": {
      "image/png": "[encoded data removed]",
      "text/plain": [
       "<Figure size 432x288 with 1 Axes>"
      ]
     },
     "metadata": {},
     "output_type": "display_data"
    }
   ],
   "source": [
    "%matplotlib inline\n",
    "freqdist = nltk.FreqDist(words)\n",
    "common = list(x[0] for x in freqdist.most_common(25))\n",
    "print('Most 25 common words:', common)\n",
    "\n",
    "#Plot:\n",
    "freqdist.plot(25)"
   ]
  },
  {
   "cell_type": "markdown",
   "metadata": {},
   "source": [
    "### Interestingly, the most common word is \"Mosby\""
   ]
  },
  {
   "cell_type": "code",
   "execution_count": null,
   "metadata": {},
   "outputs": [],
   "source": []
  }
 ],
 "metadata": {
  "kernelspec": {
   "display_name": "Python 3",
   "language": "python",
   "name": "python3"
  },
  "language_info": {
   "codemirror_mode": {
    "name": "ipython",
    "version": 3
   },
   "file_extension": ".py",
   "mimetype": "text/x-python",
   "name": "python",
   "nbconvert_exporter": "python",
   "pygments_lexer": "ipython3",
   "version": "3.6.5"
  }
 },
 "nbformat": 4,
 "nbformat_minor": 2
}
