{
 "cells": [
  {
   "cell_type": "code",
   "execution_count": 1,
   "metadata": {},
   "outputs": [],
   "source": [
    "import pandas as pd\n",
    "from sklearn.preprocessing import MinMaxScaler\n",
    "import os\n",
    "os.chdir('C:\\\\Users\\Tony\\Dropbox\\DSE\\Research\\Dataset')"
   ]
  },
  {
   "cell_type": "code",
   "execution_count": 3,
   "metadata": {},
   "outputs": [],
   "source": [
    "# Read csv\n",
    "files_lst = ['Site10_BayView_Fifteen.csv','Site11_Baisley_Park_Fifteen.csv','Site12_East_River_Fifteen.csv',\n",
    "             'Site2_Queensborough_Community_College_Fifteen.csv','Site3_Ronald_Edmonds_Learning_Center_Fifteen.csv',\n",
    "             'Site6_Dyckman_Houses_Fifteen.csv',\n",
    "             'Site8_Polo_Ground_Fifteen.csv','Site9_Far_Rockaway_Fifteen.csv']\n",
    "\n",
    "df_ls = []\n",
    "\n",
    "for f in files_lst:\n",
    "    df = pd.read_csv(f, skiprows=[1,2])\n",
    "    df.drop(df.columns[0], axis=1, inplace = True)\n",
    "    df_ls.append(df)"
   ]
  },
  {
   "cell_type": "code",
   "execution_count": 8,
   "metadata": {},
   "outputs": [
    {
     "data": {
      "text/html": [
       "<div>\n",
       "<style scoped>\n",
       "    .dataframe tbody tr th:only-of-type {\n",
       "        vertical-align: middle;\n",
       "    }\n",
       "\n",
       "    .dataframe tbody tr th {\n",
       "        vertical-align: top;\n",
       "    }\n",
       "\n",
       "    .dataframe thead th {\n",
       "        text-align: right;\n",
       "    }\n",
       "</style>\n",
       "<table border=\"1\" class=\"dataframe\">\n",
       "  <thead>\n",
       "    <tr style=\"text-align: right;\">\n",
       "      <th></th>\n",
       "      <th>TIMESTAMP</th>\n",
       "    </tr>\n",
       "  </thead>\n",
       "  <tbody>\n",
       "    <tr>\n",
       "      <th>0</th>\n",
       "      <td>2018-02-13 14:00:00</td>\n",
       "    </tr>\n",
       "    <tr>\n",
       "      <th>1</th>\n",
       "      <td>2018-02-13 14:15:00</td>\n",
       "    </tr>\n",
       "    <tr>\n",
       "      <th>2</th>\n",
       "      <td>2018-02-13 14:30:00</td>\n",
       "    </tr>\n",
       "    <tr>\n",
       "      <th>3</th>\n",
       "      <td>2018-02-13 14:45:00</td>\n",
       "    </tr>\n",
       "    <tr>\n",
       "      <th>4</th>\n",
       "      <td>2018-02-13 15:00:00</td>\n",
       "    </tr>\n",
       "  </tbody>\n",
       "</table>\n",
       "</div>"
      ],
      "text/plain": [
       "             TIMESTAMP\n",
       "0  2018-02-13 14:00:00\n",
       "1  2018-02-13 14:15:00\n",
       "2  2018-02-13 14:30:00\n",
       "3  2018-02-13 14:45:00\n",
       "4  2018-02-13 15:00:00"
      ]
     },
     "execution_count": 8,
     "metadata": {},
     "output_type": "execute_result"
    }
   ],
   "source": [
    "# Extract time stamp for finding common set\n",
    "time_stamp_df = [df[['TIMESTAMP']] for df in df_ls]\n",
    "\n",
    "ts_union = time_stamp_df[0]\n",
    "for i in range(1,len(time_stamp_df)):\n",
    "    ts_union = pd.merge(ts_union, time_stamp_df[i], how='inner', on = ['TIMESTAMP'])\n",
    "    \n",
    "ts_union_lst = ts_union['TIMESTAMP'].values\n",
    "\n",
    "ts_union.head()"
   ]
  },
  {
   "cell_type": "code",
   "execution_count": 10,
   "metadata": {
    "scrolled": false
   },
   "outputs": [
    {
     "name": "stderr",
     "output_type": "stream",
     "text": [
      "C:\\ProgramData\\Anaconda3\\lib\\site-packages\\ipykernel_launcher.py:9: SettingWithCopyWarning: \n",
      "A value is trying to be set on a copy of a slice from a DataFrame.\n",
      "Try using .loc[row_indexer,col_indexer] = value instead\n",
      "\n",
      "See the caveats in the documentation: http://pandas.pydata.org/pandas-docs/stable/indexing.html#indexing-view-versus-copy\n",
      "  if __name__ == '__main__':\n"
     ]
    }
   ],
   "source": [
    "# Manipulating one df\n",
    "for i, f in enumerate(files_lst):\n",
    "    \n",
    "    filename = '(modifed) ' + f\n",
    "    \n",
    "    temp_df = df_ls[i]\n",
    "    temp_df = temp_df[temp_df['TIMESTAMP'].isin(ts_union_lst)]\n",
    "\n",
    "    temp_df['TIMESTAMP'] = pd.to_datetime(temp_df['TIMESTAMP'])\n",
    "\n",
    "    temp_df.head()\n",
    "\n",
    "    temp_df = temp_df.groupby(pd.DatetimeIndex(temp_df['TIMESTAMP']).normalize()).mean().reset_index()\n",
    "\n",
    "    temp_df.sort_values(by = 'TIMESTAMP', inplace = True)\n",
    "\n",
    "    temp_df.to_csv(filename, index=False)"
   ]
  },
  {
   "cell_type": "code",
   "execution_count": 186,
   "metadata": {},
   "outputs": [
    {
     "data": {
      "text/plain": [
       "8"
      ]
     },
     "execution_count": 186,
     "metadata": {},
     "output_type": "execute_result"
    }
   ],
   "source": [
    "len(files_lst)"
   ]
  }
 ],
 "metadata": {
  "kernelspec": {
   "display_name": "Python 3",
   "language": "python",
   "name": "python3"
  },
  "language_info": {
   "codemirror_mode": {
    "name": "ipython",
    "version": 3
   },
   "file_extension": ".py",
   "mimetype": "text/x-python",
   "name": "python",
   "nbconvert_exporter": "python",
   "pygments_lexer": "ipython3",
   "version": "3.6.5"
  }
 },
 "nbformat": 4,
 "nbformat_minor": 2
}
